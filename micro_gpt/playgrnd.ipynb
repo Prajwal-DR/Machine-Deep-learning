{
 "cells": [
  {
   "cell_type": "code",
   "execution_count": 1,
   "id": "605633b3",
   "metadata": {},
   "outputs": [
    {
     "name": "stdout",
     "output_type": "stream",
     "text": [
      "0.7071066904050358\n",
      "---\n",
      "x2: 0.5000001283844369\n",
      "w2: 0.0\n",
      "x1: -1.5000003851533106\n",
      "w1: 1.0000002567688737\n"
     ]
    }
   ],
   "source": [
    "import torch\n",
    "\n",
    "x1 = torch.tensor([2.0], dtype=torch.float64, requires_grad=True)  \n",
    "x2 = torch.tensor([0.0], dtype=torch.float64, requires_grad=True)\n",
    "w1 = torch.tensor([-3.0], dtype=torch.float64, requires_grad=True)        \n",
    "w2 = torch.tensor([1.0], dtype=torch.float64, requires_grad=True)\n",
    "b  = torch.Tensor([6.8813735870195432]).double();         b.requires_grad = True\n",
    "\n",
    "n = x1*w1 + x2*w2 + b\n",
    "o = torch.tanh(n)\n",
    "\n",
    "print(o.data.item())\n",
    "o.backward()\n",
    "\n",
    "print('---')\n",
    "print('x2:', x2.grad.item())\n",
    "print('w2:', w2.grad.item())\n",
    "print('x1:', x1.grad.item())\n",
    "print('w1:', w1.grad.item())"
   ]
  },
  {
   "cell_type": "code",
   "execution_count": 6,
   "id": "6885f47b",
   "metadata": {},
   "outputs": [
    {
     "data": {
      "text/plain": [
       "tensor([[0, 0, 0, 0, 0],\n",
       "        [0, 0, 0, 0, 0],\n",
       "        [0, 0, 0, 0, 0]], dtype=torch.int32)"
      ]
     },
     "execution_count": 6,
     "metadata": {},
     "output_type": "execute_result"
    }
   ],
   "source": [
    "x = torch.zeros(3,5, dtype= torch.int32)\n",
    "x"
   ]
  },
  {
   "cell_type": "code",
   "execution_count": 7,
   "id": "53fc4e48",
   "metadata": {},
   "outputs": [
    {
     "data": {
      "text/plain": [
       "[0, 0, 0]"
      ]
     },
     "execution_count": 7,
     "metadata": {},
     "output_type": "execute_result"
    }
   ],
   "source": [
    "batch = 3\n",
    "context = [0] * 3\n",
    "context"
   ]
  }
 ],
 "metadata": {
  "kernelspec": {
   "display_name": "my01env",
   "language": "python",
   "name": "python3"
  },
  "language_info": {
   "codemirror_mode": {
    "name": "ipython",
    "version": 3
   },
   "file_extension": ".py",
   "mimetype": "text/x-python",
   "name": "python",
   "nbconvert_exporter": "python",
   "pygments_lexer": "ipython3",
   "version": "3.9.21"
  }
 },
 "nbformat": 4,
 "nbformat_minor": 5
}
