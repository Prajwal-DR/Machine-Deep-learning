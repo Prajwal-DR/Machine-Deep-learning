{
 "cells": [
  {
   "cell_type": "markdown",
   "id": "ef5f23eb",
   "metadata": {},
   "source": [
    "# ***Coding of micro gpt model trained with shakespeare data***"
   ]
  },
  {
   "cell_type": "markdown",
   "id": "f387d24e",
   "metadata": {},
   "source": [
    "### 1.1 Data Preparation"
   ]
  },
  {
   "cell_type": "code",
   "execution_count": null,
   "id": "9a4b7afd",
   "metadata": {},
   "outputs": [],
   "source": [
    "#libraries that are used\n",
    "import torch\n",
    "import torch.nn as nn\n",
    "import "
   ]
  }
 ],
 "metadata": {
  "kernelspec": {
   "display_name": "my01env",
   "language": "python",
   "name": "python3"
  },
  "language_info": {
   "name": "python",
   "version": "3.9.21"
  }
 },
 "nbformat": 4,
 "nbformat_minor": 5
}
