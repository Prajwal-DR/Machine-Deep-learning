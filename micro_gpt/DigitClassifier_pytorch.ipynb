{
 "cells": [
  {
   "cell_type": "code",
   "execution_count": 3,
   "id": "bf784fd4",
   "metadata": {},
   "outputs": [
    {
     "name": "stdout",
     "output_type": "stream",
     "text": [
      "torch.Size([2, 3])\n",
      "torch.float32\n"
     ]
    },
    {
     "data": {
      "text/plain": [
       "tensor([[5.0000, 4.0000, 2.5000],\n",
       "        [2.0000, 3.0000, 2.1000]])"
      ]
     },
     "execution_count": 3,
     "metadata": {},
     "output_type": "execute_result"
    }
   ],
   "source": [
    "import torch\n",
    "\n",
    "x = torch.tensor([[5.,4.,2.5],[2.,3.,2.1]])\n",
    "print(x.size())\n",
    "print(x.dtype)\n",
    "x"
   ]
  },
  {
   "cell_type": "code",
   "execution_count": null,
   "id": "db5c00e6",
   "metadata": {},
   "outputs": [
    {
     "name": "stdout",
     "output_type": "stream",
     "text": [
      "tensor([20.5000, 14.3000], grad_fn=<AddBackward0>)\n"
     ]
    }
   ],
   "source": [
    "w = torch.tensor([1.,2.,3.], requires_grad=True)\n",
    "\n",
    "b = torch.tensor([0.], requires_grad=True)\n",
    "\n",
    "y = torch.tensor([10.,9.])\n",
    "\n",
    "y_cal = torch.matmul(x,w) + b\n",
    "\n",
    "print(y_cal)"
   ]
  },
  {
   "cell_type": "code",
   "execution_count": 7,
   "id": "3963f17b",
   "metadata": {},
   "outputs": [
    {
     "name": "stdout",
     "output_type": "stream",
     "text": [
      "tensor([126.2000, 115.8000,  74.7600]) tensor([31.6000])\n"
     ]
    }
   ],
   "source": [
    "#cost function\n",
    "J = ((y_cal - y)**2).sum()\n",
    "\n",
    "#calculate gradient\n",
    "J.backward()\n",
    "\n",
    "print(w.grad, b.grad)"
   ]
  },
  {
   "cell_type": "markdown",
   "id": "94e5f507",
   "metadata": {},
   "source": [
    "## **Implement** MLP in pyTorch\n",
    "   #### To write feed forward neural network using py-torch with one **input layer** , one **hidden layer** and one **output layer**\n",
    "\n",
    "   ## 1.1 Load Data"
   ]
  },
  {
   "cell_type": "code",
   "execution_count": 6,
   "id": "b5c7bf0d",
   "metadata": {},
   "outputs": [
    {
     "name": "stdout",
     "output_type": "stream",
     "text": [
      "X_train shape (60000, 1, 28, 28)\n",
      "y_train shape (60000,)\n",
      "X_test shape (10000, 1, 28, 28)\n",
      "y_test shape (10000,)\n"
     ]
    }
   ],
   "source": [
    "#load library\n",
    "import torch\n",
    "import torch.nn as nn\n",
    "from torch.utils.data import TensorDataset, DataLoader\n",
    "import numpy as np\n",
    "import matplotlib.pyplot as plt\n",
    "\n",
    "#Load data from minst file using np\n",
    "\n",
    "minst_ = np.load('mnist_scaled.npz')\n",
    "\n",
    "X_train, y_train, X_test, y_test = [minst_[f] for f in ['X_train', 'y_train', 'X_test', \n",
    "                                                        'y_test']]\n",
    "\n",
    "X_train = X_train.reshape(-1,1,28,28)\n",
    "X_test = X_test.reshape(-1,1,28,28)\n",
    "\n",
    "del minst_\n",
    "\n",
    "print(f'X_train shape {X_train.shape}')\n",
    "print(f'y_train shape {y_train.shape}')\n",
    "print(f'X_test shape {X_test.shape}')\n",
    "print(f'y_test shape {y_test.shape}')\n",
    "\n",
    "#Preparing dataset numpy to tensor datatype for pytorch operations \n",
    "\n",
    "train_dataset = TensorDataset(torch.tensor(X_train[:55000], dtype=(torch.float32)),\n",
    "                                torch.tensor(y_train[:55000], dtype=(torch.int64)))\n",
    "test_dataset = TensorDataset(torch.tensor(X_train[55000:], dtype=(torch.float32)),\n",
    "                                torch.tensor(y_train[55000 :], dtype=(torch.int64)))\n",
    "val_dataset = TensorDataset(torch.tensor(X_test, dtype=(torch.float32)),\n",
    "                                torch.tensor(y_test, dtype=(torch.int64)))"
   ]
  },
  {
   "cell_type": "code",
   "execution_count": null,
   "id": "42cf9022",
   "metadata": {},
   "outputs": [],
   "source": [
    "#mini batch size\n",
    "minibatch_size = 300\n",
    "\n",
    "#Data loaders\n",
    "train_dataloader = DataLoader(dataset=train_dataset, batch_size= minibatch_size, shuffle = True)\n",
    "test_dataloader = DataLoader(dataset=test_dataset, batch_size= minibatch_size, shuffle = False)\n",
    "val_dataloader = DataLoader(dataset=val_dataset, batch_size= minibatch_size, shuffle = False)"
   ]
  },
  {
   "cell_type": "markdown",
   "id": "3f8ed046",
   "metadata": {},
   "source": [
    "### To define network class"
   ]
  },
  {
   "cell_type": "code",
   "execution_count": 20,
   "id": "cea7d4a2",
   "metadata": {},
   "outputs": [],
   "source": [
    "class NeuralNet_pytorch(nn.Module):\n",
    "    ''' \n",
    "    NeuralNet class for forward pass functionality\n",
    "\n",
    "    Parameter:\n",
    "    ==================================\n",
    "\n",
    "    n_inputs: {int}\n",
    "    number of inputs to the model\n",
    "\n",
    "    n_hidden: {int}\n",
    "    number of hidden units\n",
    "\n",
    "    n_outputs: {int}\n",
    "    number of output units\n",
    "\n",
    "    Methods:\n",
    "    =====================================\n",
    "\n",
    "    forward(X): [input parameter - prepared(X_train, X_test) dataset]\n",
    "    sequential forward calculation of nn\n",
    "\n",
    "    '''\n",
    "    def __init__(self, n_inputs, n_hidden=30, n_output=1):\n",
    "        super(NeuralNet_pytorch, self).__init__()\n",
    "        self.n_inputs = n_inputs\n",
    "        self.n_hidden = n_hidden\n",
    "        self.n_output = n_output\n",
    "\n",
    "        self.model_layer = nn.Sequential(\n",
    "            nn.Flatten(),\n",
    "            nn.Linear(self.n_inputs, self.n_hidden),\n",
    "            nn.Sigmoid(),\n",
    "            nn.Linear(self.n_hidden, self.n_output),\n",
    "        )\n",
    "\n",
    "    def forward(self,X):\n",
    "        out = self.model_layer(X)\n",
    "        return out"
   ]
  },
  {
   "cell_type": "markdown",
   "id": "dbedac0d",
   "metadata": {},
   "source": [
    "### Define test function to find the **accuracy** of validation dataset"
   ]
  },
  {
   "cell_type": "code",
   "execution_count": 16,
   "id": "58d48b6c",
   "metadata": {},
   "outputs": [],
   "source": [
    "def test(dataloader, model):\n",
    "\n",
    "    #read dataloader size\n",
    "    dataset_size = len(dataloader.dataset)\n",
    "\n",
    "    #model should be evaluate mode\n",
    "    model.eval()\n",
    "\n",
    "    #No gradient calculations\n",
    "    with torch.no_grad():\n",
    "\n",
    "        correct=0\n",
    "        for images, labels in dataloader:\n",
    "            images, labels = images.to(device), labels.to(device)\n",
    "\n",
    "            #forward propagation\n",
    "            output = model(images)\n",
    "\n",
    "            #derive prediction\n",
    "            y_pred = output.argmax(1)\n",
    "\n",
    "            #getting the corrected prediction count\n",
    "            correct += (y_pred == labels).sum().item()\n",
    "\n",
    "        #calculate accuracy\n",
    "        acc = correct/dataset_size\n",
    "\n",
    "    return acc"
   ]
  },
  {
   "cell_type": "markdown",
   "id": "e95a8a18",
   "metadata": {},
   "source": [
    "## **Apply** Neural net for **Image recognition** \n",
    "\n",
    "### Define parameters"
   ]
  },
  {
   "cell_type": "code",
   "execution_count": 22,
   "id": "4dd50605",
   "metadata": {},
   "outputs": [
    {
     "name": "stdout",
     "output_type": "stream",
     "text": [
      "Using device : cpu\n"
     ]
    }
   ],
   "source": [
    "device  = torch.device('cuda' if torch.cuda.is_available() else 'cpu')\n",
    "print(f'Using device : {device}')\n",
    "\n",
    "#parameters\n",
    "\n",
    "n_input = 28*28\n",
    "n_hidden =100\n",
    "n_output = 10\n",
    "learning_rate = 0.0005\n",
    "epochs = 100\n",
    "shuffle = True"
   ]
  },
  {
   "cell_type": "code",
   "execution_count": 21,
   "id": "fb0275d3",
   "metadata": {},
   "outputs": [
    {
     "name": "stdout",
     "output_type": "stream",
     "text": [
      "NeuralNet_pytorch(\n",
      "  (model_layer): Sequential(\n",
      "    (0): Flatten(start_dim=1, end_dim=-1)\n",
      "    (1): Linear(in_features=784, out_features=100, bias=True)\n",
      "    (2): Sigmoid()\n",
      "    (3): Linear(in_features=100, out_features=10, bias=True)\n",
      "  )\n",
      ")\n"
     ]
    }
   ],
   "source": [
    "# instanciate the model\n",
    "\n",
    "model = NeuralNet_pytorch(n_input, n_hidden, n_output).to(device)\n",
    "print(model)"
   ]
  },
  {
   "cell_type": "markdown",
   "id": "ad7f8388",
   "metadata": {},
   "source": [
    "### fit() model"
   ]
  },
  {
   "cell_type": "code",
   "execution_count": 26,
   "id": "84c09da5",
   "metadata": {},
   "outputs": [
    {
     "name": "stdout",
     "output_type": "stream",
     "text": [
      "Epoch [5/100], Loss: 0.0090\n",
      "      Training accuracy: 100.0%\n",
      "      Validation accuracy: 97.9%\n",
      "Epoch [10/100], Loss: 0.0082\n",
      "      Training accuracy: 100.0%\n",
      "      Validation accuracy: 97.9%\n",
      "Epoch [15/100], Loss: 0.0050\n",
      "      Training accuracy: 100.0%\n",
      "      Validation accuracy: 97.8%\n",
      "Epoch [20/100], Loss: 0.0073\n",
      "      Training accuracy: 100.0%\n",
      "      Validation accuracy: 97.9%\n",
      "Epoch [25/100], Loss: 0.0025\n",
      "      Training accuracy: 100.0%\n",
      "      Validation accuracy: 98.0%\n",
      "Epoch [30/100], Loss: 0.0025\n",
      "      Training accuracy: 100.0%\n",
      "      Validation accuracy: 97.9%\n",
      "Epoch [35/100], Loss: 0.0022\n",
      "      Training accuracy: 100.0%\n",
      "      Validation accuracy: 97.9%\n",
      "Epoch [40/100], Loss: 0.0005\n",
      "      Training accuracy: 100.0%\n",
      "      Validation accuracy: 98.0%\n",
      "Epoch [45/100], Loss: 0.0009\n",
      "      Training accuracy: 100.0%\n",
      "      Validation accuracy: 98.0%\n",
      "Epoch [50/100], Loss: 0.0013\n",
      "      Training accuracy: 100.0%\n",
      "      Validation accuracy: 97.9%\n",
      "Epoch [55/100], Loss: 0.0006\n",
      "      Training accuracy: 100.0%\n",
      "      Validation accuracy: 97.9%\n",
      "Epoch [60/100], Loss: 0.0002\n",
      "      Training accuracy: 99.8%\n",
      "      Validation accuracy: 98.0%\n",
      "Epoch [65/100], Loss: 0.0006\n",
      "      Training accuracy: 100.0%\n",
      "      Validation accuracy: 97.9%\n",
      "Epoch [70/100], Loss: 0.0005\n",
      "      Training accuracy: 100.0%\n",
      "      Validation accuracy: 97.9%\n",
      "Epoch [75/100], Loss: 0.0006\n",
      "      Training accuracy: 100.0%\n",
      "      Validation accuracy: 97.9%\n",
      "Epoch [80/100], Loss: 0.0007\n",
      "      Training accuracy: 100.0%\n",
      "      Validation accuracy: 97.9%\n",
      "Epoch [85/100], Loss: 0.0004\n",
      "      Training accuracy: 100.0%\n",
      "      Validation accuracy: 97.8%\n",
      "Epoch [90/100], Loss: 0.0005\n",
      "      Training accuracy: 99.9%\n",
      "      Validation accuracy: 97.9%\n",
      "Epoch [95/100], Loss: 0.0003\n",
      "      Training accuracy: 100.0%\n",
      "      Validation accuracy: 97.9%\n",
      "Epoch [100/100], Loss: 0.0003\n",
      "      Training accuracy: 100.0%\n",
      "      Validation accuracy: 97.9%\n"
     ]
    }
   ],
   "source": [
    "#instance creation for loss and optimizer\n",
    "loss = nn.CrossEntropyLoss()\n",
    "optimize = torch.optim.Adam(model.parameters(), lr=learning_rate)\n",
    "\n",
    "#train over epochs\n",
    "for epoch in range(epochs):\n",
    "    correct=0; sample=0\n",
    "\n",
    "    for idx, (images,labels) in enumerate(train_dataloader):\n",
    "\n",
    "        images, labels = images.to(device), labels.to(device)\n",
    "\n",
    "        #forward pass\n",
    "        output = model(images)\n",
    "\n",
    "        #back propagation and gradient descent\n",
    "        optimize.zero_grad()\n",
    "        J = loss(output, labels)\n",
    "        J.backward()\n",
    "        #adjust the parameters\n",
    "        optimize.step()\n",
    "\n",
    "        _, y_pred = torch.max(output.data, 1)\n",
    "\n",
    "        #calculate the output matching the label\n",
    "        correct += (y_pred == labels).sum().item()\n",
    "        sample += labels.size(0)\n",
    "\n",
    "    if (epoch + 1) % 5 == 0:\n",
    "\n",
    "        train_acc = correct/sample\n",
    "        test_acc = test(test_dataloader, model)\n",
    "\n",
    "        # Print info\n",
    "        print (f\"Epoch [{epoch+1}/{epochs}], Loss: {J.item():.4f}\")\n",
    "        print(f\"      Training accuracy: {train_acc*100:.1f}%\")\n",
    "        print(f\"      Validation accuracy: {test_acc*100:.1f}%\")\n"
   ]
  }
 ],
 "metadata": {
  "kernelspec": {
   "display_name": "my01env",
   "language": "python",
   "name": "python3"
  },
  "language_info": {
   "codemirror_mode": {
    "name": "ipython",
    "version": 3
   },
   "file_extension": ".py",
   "mimetype": "text/x-python",
   "name": "python",
   "nbconvert_exporter": "python",
   "pygments_lexer": "ipython3",
   "version": "3.9.21"
  }
 },
 "nbformat": 4,
 "nbformat_minor": 5
}
