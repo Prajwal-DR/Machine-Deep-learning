{
 "cells": [
  {
   "cell_type": "markdown",
   "id": "29deb40f",
   "metadata": {},
   "source": [
    "<font size=\"8\">**Neural Networks**, how to use the **professional** toolkits</font>\n",
    "\n",
    "\n",
    "In our previous workshop we implemented a neural network from scratch. In this workshop we want to explain how **professional toolkits** are used to setup, train and run neural networks. The two most widely used toolkits are **PyTorch** (Facebook) and **TensorFlow** (google). Here, we will **concentrate** on **PyTorch**."
   ]
  },
  {
   "attachments": {
    "7370a1c8-d133-4a2d-9987-455aa7f7112f.png": {
     "image/png": "[encoded data removed]"
    }
   },
   "cell_type": "markdown",
   "id": "54aa9713",
   "metadata": {},
   "source": [
    "![grafik.png](attachment:7370a1c8-d133-4a2d-9987-455aa7f7112f.png)"
   ]
  },
  {
   "cell_type": "markdown",
   "id": "56de25de",
   "metadata": {},
   "source": [
    "<br>"
   ]
  },
  {
   "cell_type": "markdown",
   "id": "f843eb3c",
   "metadata": {},
   "source": [
    "# **Tensors** in Pytorch"
   ]
  },
  {
   "cell_type": "markdown",
   "id": "2e3db0e1",
   "metadata": {},
   "source": [
    "Tensors are the **basic datatype** for neural networks. Every calculation step in PyTorch is based on **tensor operations**. Tensors can have arbitrary dimensions:\n",
    "- **Scalars** are tensors of dimension 0\n",
    "- **Vectors** are tensors of dimension 1\n",
    "- **Matrices** are tensors of dimension 2\n",
    "- **\"Tensors\"** are tensors of dimension $ \\geq $ 3"
   ]
  },
  {
   "cell_type": "markdown",
   "id": "6492d914-6257-462e-900d-479aacfcf4da",
   "metadata": {},
   "source": [
    "<br>"
   ]
  },
  {
   "cell_type": "markdown",
   "id": "3ec1ab61",
   "metadata": {},
   "source": [
    "## Tensor **definitions**"
   ]
  },
  {
   "cell_type": "code",
   "execution_count": 1,
   "id": "8cc5288c",
   "metadata": {},
   "outputs": [],
   "source": [
    "import torch"
   ]
  },
  {
   "cell_type": "code",
   "execution_count": 2,
   "id": "83cb4467",
   "metadata": {},
   "outputs": [
    {
     "name": "stdout",
     "output_type": "stream",
     "text": [
      "tensor([0.])\n"
     ]
    }
   ],
   "source": [
    "# torch.empty(size): uninitiallized\n",
    "x = torch.empty(1) # scalar\n",
    "print(x)"
   ]
  },
  {
   "cell_type": "code",
   "execution_count": 3,
   "id": "7af0ecaa",
   "metadata": {},
   "outputs": [
    {
     "name": "stdout",
     "output_type": "stream",
     "text": [
      "tensor([0., 0., 0.])\n"
     ]
    }
   ],
   "source": [
    "# torch.zeros(size): fill with zeros\n",
    "x = torch.zeros(3) # vector\n",
    "print(x)"
   ]
  },
  {
   "cell_type": "code",
   "execution_count": 4,
   "id": "e0314f06",
   "metadata": {},
   "outputs": [
    {
     "name": "stdout",
     "output_type": "stream",
     "text": [
      "tensor([[1., 1., 1., 1., 1.],\n",
      "        [1., 1., 1., 1., 1.],\n",
      "        [1., 1., 1., 1., 1.]])\n"
     ]
    }
   ],
   "source": [
    "# torch.ones(size): fill with ones\n",
    "x = torch.ones(3, 5) # matrix\n",
    "print(x)"
   ]
  },
  {
   "cell_type": "code",
   "execution_count": 5,
   "id": "e190881d",
   "metadata": {},
   "outputs": [
    {
     "name": "stdout",
     "output_type": "stream",
     "text": [
      "tensor([[[0.3077, 0.0630],\n",
      "         [0.9560, 0.3193],\n",
      "         [0.3796, 0.6445],\n",
      "         [0.7219, 0.5669],\n",
      "         [0.0139, 0.9599]],\n",
      "\n",
      "        [[0.7239, 0.5558],\n",
      "         [0.5108, 0.2456],\n",
      "         [0.7633, 0.6063],\n",
      "         [0.1151, 0.2971],\n",
      "         [0.5952, 0.7454]],\n",
      "\n",
      "        [[0.3021, 0.8024],\n",
      "         [0.6171, 0.5539],\n",
      "         [0.7793, 0.7116],\n",
      "         [0.1617, 0.4293],\n",
      "         [0.1080, 0.9228]]])\n"
     ]
    }
   ],
   "source": [
    "# torch.rand(size): uniform random numbers from range [0, 1]\n",
    "x = torch.rand(3, 5, 2) # 3-dimensional tensor\n",
    "print(x)"
   ]
  },
  {
   "cell_type": "code",
   "execution_count": 6,
   "id": "8d38648f",
   "metadata": {},
   "outputs": [
    {
     "name": "stdout",
     "output_type": "stream",
     "text": [
      "tensor([[-0.9871, -0.1957,  1.0396],\n",
      "        [-0.0640,  0.7593, -1.3143],\n",
      "        [-0.5685, -0.5340, -0.3119],\n",
      "        [ 0.0751, -0.8985, -0.5628]])\n"
     ]
    }
   ],
   "source": [
    "# torch.randn(size): random numbers from standard normal distribution\n",
    "x = torch.randn(4, 3) # matrix\n",
    "print(x)"
   ]
  },
  {
   "cell_type": "code",
   "execution_count": 7,
   "id": "8c0f3248",
   "metadata": {},
   "outputs": [
    {
     "name": "stdout",
     "output_type": "stream",
     "text": [
      "torch.Size([4, 3])\n"
     ]
    }
   ],
   "source": [
    "# Check size of tensor\n",
    "print(x.size())"
   ]
  },
  {
   "cell_type": "code",
   "execution_count": 8,
   "id": "6e26a8ce",
   "metadata": {},
   "outputs": [
    {
     "name": "stdout",
     "output_type": "stream",
     "text": [
      "torch.float32\n"
     ]
    }
   ],
   "source": [
    "# Check data type of a tensor\n",
    "print(x.dtype)"
   ]
  },
  {
   "cell_type": "code",
   "execution_count": 9,
   "id": "4645a752",
   "metadata": {},
   "outputs": [
    {
     "name": "stdout",
     "output_type": "stream",
     "text": [
      "tensor([[0., 0., 0.],\n",
      "        [0., 0., 0.],\n",
      "        [0., 0., 0.],\n",
      "        [0., 0., 0.],\n",
      "        [0., 0., 0.]], dtype=torch.float16)\n"
     ]
    }
   ],
   "source": [
    "# Specify data types, float32 is default\n",
    "x = torch.zeros(5, 3, dtype=torch.float16)\n",
    "print(x)"
   ]
  },
  {
   "cell_type": "code",
   "execution_count": 10,
   "id": "8577cb3f",
   "metadata": {},
   "outputs": [
    {
     "name": "stdout",
     "output_type": "stream",
     "text": [
      "tensor([[5.5000, 3.0000],\n",
      "        [4.0000, 8.2969]], dtype=torch.float16)\n",
      "torch.Size([2, 2])\n",
      "torch.float16\n"
     ]
    }
   ],
   "source": [
    "# Construct tensor from data\n",
    "x = torch.tensor([[5.5, 3],[4, 8.3]], dtype=torch.float16)\n",
    "print(x)\n",
    "print(x.size())\n",
    "print(x.dtype)"
   ]
  },
  {
   "cell_type": "code",
   "execution_count": 11,
   "id": "46288929",
   "metadata": {},
   "outputs": [
    {
     "name": "stdout",
     "output_type": "stream",
     "text": [
      "[1. 1. 1. 1. 1.]\n",
      "tensor([1., 1., 1., 1., 1.], dtype=torch.float64)\n"
     ]
    }
   ],
   "source": [
    "# numpy to torch tensors\n",
    "import numpy as np\n",
    "a = np.ones(5)\n",
    "b = torch.from_numpy(a)\n",
    "print(a)\n",
    "print(b)"
   ]
  },
  {
   "cell_type": "code",
   "execution_count": 12,
   "id": "2391aa70",
   "metadata": {},
   "outputs": [
    {
     "name": "stdout",
     "output_type": "stream",
     "text": [
      "tensor([1., 1., 1., 1., 1.], dtype=torch.float64)\n",
      "Type of c: float64, content: [1. 1. 1. 1. 1.]\n"
     ]
    }
   ],
   "source": [
    "# The way back: from tensor to numpy\n",
    "c = b.numpy()\n",
    "print(b)\n",
    "print(f\"Type of c: {c.dtype}, content: {c}\")"
   ]
  },
  {
   "cell_type": "markdown",
   "id": "31c2377b",
   "metadata": {},
   "source": [
    "<br>"
   ]
  },
  {
   "cell_type": "markdown",
   "id": "1d29d521",
   "metadata": {},
   "source": [
    "## Basic tensor **operations**"
   ]
  },
  {
   "cell_type": "code",
   "execution_count": 13,
   "id": "c6947f18",
   "metadata": {},
   "outputs": [
    {
     "name": "stdout",
     "output_type": "stream",
     "text": [
      "x:\n",
      "tensor([[0.4621, 0.5643],\n",
      "        [0.5618, 0.1737]])\n",
      "y:\n",
      "tensor([[0.3440, 0.2677],\n",
      "        [0.5438, 0.9813]])\n"
     ]
    }
   ],
   "source": [
    "x = torch.rand(2, 2)\n",
    "y = torch.rand(2, 2)\n",
    "print(f\"x:\\n{x}\")\n",
    "print(f\"y:\\n{y}\")"
   ]
  },
  {
   "cell_type": "code",
   "execution_count": 14,
   "id": "2c29e719",
   "metadata": {},
   "outputs": [
    {
     "name": "stdout",
     "output_type": "stream",
     "text": [
      "tensor([[0.8062, 0.8321],\n",
      "        [1.1056, 1.1551]])\n"
     ]
    }
   ],
   "source": [
    "# Elementwise addition\n",
    "z = x + y\n",
    "# torch.add(x,y)\n",
    "print(z)"
   ]
  },
  {
   "cell_type": "code",
   "execution_count": 15,
   "id": "bcc5432d",
   "metadata": {},
   "outputs": [
    {
     "data": {
      "text/plain": [
       "tensor([[0.8062, 0.8321],\n",
       "        [1.1056, 1.1551]])"
      ]
     },
     "execution_count": 15,
     "metadata": {},
     "output_type": "execute_result"
    }
   ],
   "source": [
    "# In place addition, everything with a trailing underscore is an inplace operation\n",
    "y.add_(x)"
   ]
  },
  {
   "cell_type": "code",
   "execution_count": 16,
   "id": "f1f163ed",
   "metadata": {},
   "outputs": [
    {
     "name": "stdout",
     "output_type": "stream",
     "text": [
      "tensor([[-0.3440, -0.2677],\n",
      "        [-0.5438, -0.9813]])\n"
     ]
    }
   ],
   "source": [
    "# Subtraction\n",
    "z = x - y\n",
    "# z = torch.sub(x, y)\n",
    "print(z)"
   ]
  },
  {
   "cell_type": "code",
   "execution_count": 17,
   "id": "a9c17879",
   "metadata": {},
   "outputs": [
    {
     "name": "stdout",
     "output_type": "stream",
     "text": [
      "tensor([[0.3725, 0.4696],\n",
      "        [0.6211, 0.2007]])\n"
     ]
    }
   ],
   "source": [
    "# Multiplication\n",
    "z = x * y\n",
    "# z = torch.mul(x,y)\n",
    "print(z)"
   ]
  },
  {
   "cell_type": "code",
   "execution_count": 18,
   "id": "775ca597",
   "metadata": {},
   "outputs": [
    {
     "name": "stdout",
     "output_type": "stream",
     "text": [
      "tensor([[0.5732, 0.6782],\n",
      "        [0.5081, 0.1504]])\n"
     ]
    }
   ],
   "source": [
    "# Division\n",
    "z = x / y\n",
    "# z = torch.div(x,y)\n",
    "print(z)"
   ]
  },
  {
   "cell_type": "markdown",
   "id": "c4b23bab",
   "metadata": {},
   "source": [
    "<br>"
   ]
  },
  {
   "cell_type": "markdown",
   "id": "80b44774",
   "metadata": {},
   "source": [
    "## **Slicing** a tensor"
   ]
  },
  {
   "cell_type": "code",
   "execution_count": 19,
   "id": "a3636e24",
   "metadata": {},
   "outputs": [
    {
     "name": "stdout",
     "output_type": "stream",
     "text": [
      "tensor([[0.4085, 0.4652, 0.2537],\n",
      "        [0.5014, 0.7025, 0.8194],\n",
      "        [0.3579, 0.9786, 0.0275],\n",
      "        [0.2750, 0.0319, 0.2151],\n",
      "        [0.1474, 0.0201, 0.7596]])\n"
     ]
    }
   ],
   "source": [
    "x = torch.rand(5,3)\n",
    "print(x)"
   ]
  },
  {
   "cell_type": "code",
   "execution_count": 20,
   "id": "ff5150ac",
   "metadata": {},
   "outputs": [
    {
     "name": "stdout",
     "output_type": "stream",
     "text": [
      "tensor([0.4085, 0.5014, 0.3579, 0.2750, 0.1474])\n"
     ]
    }
   ],
   "source": [
    "# Slice a column\n",
    "print(x[:, 0]) # all rows, column 0"
   ]
  },
  {
   "cell_type": "code",
   "execution_count": 21,
   "id": "4b584feb",
   "metadata": {},
   "outputs": [
    {
     "name": "stdout",
     "output_type": "stream",
     "text": [
      "tensor([0.5014, 0.7025, 0.8194])\n"
     ]
    }
   ],
   "source": [
    "# Slice a row\n",
    "print(x[1, :]) # row 1, all columns"
   ]
  },
  {
   "cell_type": "code",
   "execution_count": 22,
   "id": "61897b9a",
   "metadata": {},
   "outputs": [
    {
     "name": "stdout",
     "output_type": "stream",
     "text": [
      "tensor(0.7025)\n"
     ]
    }
   ],
   "source": [
    "# Slice a specific element\n",
    "print(x[1,1]) # element at 1, 1"
   ]
  },
  {
   "cell_type": "code",
   "execution_count": 23,
   "id": "3f0ad8de",
   "metadata": {},
   "outputs": [
    {
     "name": "stdout",
     "output_type": "stream",
     "text": [
      "0.7025341391563416\n"
     ]
    }
   ],
   "source": [
    "# Get the actual value if only 1 element is in your tensor\n",
    "print(x[1,1].item())"
   ]
  },
  {
   "cell_type": "markdown",
   "id": "680ef437",
   "metadata": {},
   "source": [
    "<br>"
   ]
  },
  {
   "cell_type": "markdown",
   "id": "d382f2d4",
   "metadata": {},
   "source": [
    "## **Reshape** a tensor"
   ]
  },
  {
   "cell_type": "code",
   "execution_count": 24,
   "id": "b4bad833",
   "metadata": {},
   "outputs": [
    {
     "name": "stdout",
     "output_type": "stream",
     "text": [
      "tensor([[ 0.8941,  0.1622,  0.8411, -1.2612],\n",
      "        [ 1.2409, -2.4623, -1.3195,  1.1727],\n",
      "        [-1.2354,  1.9122, -0.3904, -0.5794],\n",
      "        [-1.4022,  0.9281, -0.0274, -0.0324]])\n",
      "torch.Size([4, 4])\n"
     ]
    }
   ],
   "source": [
    "x = torch.randn(4, 4)\n",
    "print(x)\n",
    "print(x.size())"
   ]
  },
  {
   "cell_type": "code",
   "execution_count": 25,
   "id": "17df125d",
   "metadata": {},
   "outputs": [
    {
     "name": "stdout",
     "output_type": "stream",
     "text": [
      "tensor([ 0.8941,  0.1622,  0.8411, -1.2612,  1.2409, -2.4623, -1.3195,  1.1727,\n",
      "        -1.2354,  1.9122, -0.3904, -0.5794, -1.4022,  0.9281, -0.0274, -0.0324])\n",
      "torch.Size([16])\n"
     ]
    }
   ],
   "source": [
    "# Reshape all elements to one row\n",
    "y = x.view(16)\n",
    "print(y)\n",
    "print(y.size())"
   ]
  },
  {
   "cell_type": "code",
   "execution_count": 26,
   "id": "73646116",
   "metadata": {},
   "outputs": [
    {
     "name": "stdout",
     "output_type": "stream",
     "text": [
      "tensor([[ 0.8941,  0.1622,  0.8411, -1.2612,  1.2409, -2.4623, -1.3195,  1.1727],\n",
      "        [-1.2354,  1.9122, -0.3904, -0.5794, -1.4022,  0.9281, -0.0274, -0.0324]])\n",
      "torch.Size([2, 8])\n"
     ]
    }
   ],
   "source": [
    "# Leave one dimension open for fitting: -1\n",
    "z = x.view(-1, 8)  # the size -1 is inferred from other dimensions\n",
    "print(z)\n",
    "print(z.size())"
   ]
  },
  {
   "cell_type": "markdown",
   "id": "770f5ba4",
   "metadata": {},
   "source": [
    "<br>"
   ]
  },
  {
   "attachments": {
    "d90c4c83-a134-4b4f-9f82-799893011220.png": {
     "image/png": "[encoded data removed]"
    }
   },
   "cell_type": "markdown",
   "id": "cdfc2a7e",
   "metadata": {},
   "source": [
    "# **Gradient calculation** - the essence of learning\n",
    "\n",
    "As we have seen in many previous workshops, learning the parameters of a ML model is related to calulating their **derivatives**. The derivative tells us what is the effect of a change in the **input** variable on the **output** variable and **vice versa**: In Machine Learning we usually determine in which **direction** and to what **extent** we have to change the **weights** in order to reduce the **cost function** to its minimum.\n",
    "\n",
    "![grafik.png](attachment:d90c4c83-a134-4b4f-9f82-799893011220.png)\n",
    "\n",
    "PyTorch can calculate the derivatives for us automatically. The **autograd package** provides automatic differentiation for all operations on tensors. To tell PyTorch that we want the gradient, we have to set `requires_grad=True`. With this attribute set, all operations on the tensor are tracked in the computational graph."
   ]
  },
  {
   "cell_type": "markdown",
   "id": "36487ae0",
   "metadata": {},
   "source": [
    "<br>"
   ]
  },
  {
   "cell_type": "markdown",
   "id": "f332a176",
   "metadata": {},
   "source": [
    "## **Examples:** Polynomials"
   ]
  },
  {
   "cell_type": "markdown",
   "id": "e4da69b1",
   "metadata": {},
   "source": [
    "### Simple polynomial"
   ]
  },
  {
   "cell_type": "markdown",
   "id": "665f46ce",
   "metadata": {},
   "source": [
    "Let's study some examples:\n",
    "\n",
    "$ y = 2x^2 + 5x + 7 $\n",
    "\n",
    "$ \\frac{dy}{dx} = 4x + 5 $\n",
    "\n",
    "With $x=5$ we get:\n",
    "\n",
    "$ \\frac{dy}{dx} = 4 \\cdot 5 + 5 = 25 $"
   ]
  },
  {
   "cell_type": "code",
   "execution_count": 27,
   "id": "c6f04f46",
   "metadata": {},
   "outputs": [
    {
     "name": "stdout",
     "output_type": "stream",
     "text": [
      "tensor([5.], requires_grad=True)\n"
     ]
    }
   ],
   "source": [
    "# In PyTorch we need to define the variable that is the target of the derivation first.\n",
    "# Here: x\n",
    "x = torch.tensor([5.], requires_grad=True)\n",
    "print(x)"
   ]
  },
  {
   "cell_type": "code",
   "execution_count": 28,
   "id": "3adb1816",
   "metadata": {},
   "outputs": [
    {
     "name": "stdout",
     "output_type": "stream",
     "text": [
      "tensor([82.], grad_fn=<AddBackward0>)\n"
     ]
    }
   ],
   "source": [
    "# Define y - the operations can be conducted in several subsequent steps, too.\n",
    "y = 2 * x**2 + 5 * x + 7\n",
    "print(y)"
   ]
  },
  {
   "cell_type": "code",
   "execution_count": 29,
   "id": "ea3ec27e",
   "metadata": {},
   "outputs": [],
   "source": [
    "# Calculate the derivative dy/dx\n",
    "y.backward()"
   ]
  },
  {
   "cell_type": "code",
   "execution_count": 30,
   "id": "e6b04304",
   "metadata": {},
   "outputs": [
    {
     "data": {
      "text/plain": [
       "tensor([25.])"
      ]
     },
     "execution_count": 30,
     "metadata": {},
     "output_type": "execute_result"
    }
   ],
   "source": [
    "# Now we can call the .grad attribute for x\n",
    "x.grad"
   ]
  },
  {
   "cell_type": "markdown",
   "id": "406da65c",
   "metadata": {},
   "source": [
    "<br>"
   ]
  },
  {
   "cell_type": "markdown",
   "id": "8260bfe9",
   "metadata": {},
   "source": [
    "### Including chain rule"
   ]
  },
  {
   "cell_type": "markdown",
   "id": "7f1f722a",
   "metadata": {},
   "source": [
    "Let's do a slightly more complicated example:\n",
    "\n",
    "$ y = \\sqrt{2x^2 + 5x + 7} $\n",
    "\n",
    "$ \\displaystyle \\frac{dy}{dx} = \\frac{1}{2} \\cdot \\frac{1}{\\sqrt{ 2x^2 + 5x + 7 }} \\cdot \\left( 4x + 5 \\right) $\n",
    "\n",
    "With $x=5$ we get:\n",
    "\n",
    "$ \\displaystyle \\frac{dy}{dx} = \\frac{1}{2} \\cdot \\frac{1}{\\sqrt{ 2\\cdot 5^2 + 5 \\cdot 5 + 7 }} \\cdot \\left( 4 \\cdot 5 + 5 \\right) = 1.3804 $"
   ]
  },
  {
   "cell_type": "code",
   "execution_count": 31,
   "id": "b9aa7814",
   "metadata": {},
   "outputs": [
    {
     "name": "stdout",
     "output_type": "stream",
     "text": [
      "tensor([5.], requires_grad=True)\n"
     ]
    }
   ],
   "source": [
    "# We need to define x:\n",
    "x = torch.tensor([5.], requires_grad=True)\n",
    "print(x)"
   ]
  },
  {
   "cell_type": "code",
   "execution_count": 32,
   "id": "575f2fef",
   "metadata": {},
   "outputs": [
    {
     "name": "stdout",
     "output_type": "stream",
     "text": [
      "tensor([9.0554], grad_fn=<SqrtBackward0>)\n"
     ]
    }
   ],
   "source": [
    "# Define y - The operation can be done in one step, too.\n",
    "y = 2 * x**2 + 5 * x + 7\n",
    "y = torch.sqrt(y)\n",
    "print(y)"
   ]
  },
  {
   "cell_type": "code",
   "execution_count": 33,
   "id": "6155f9ff",
   "metadata": {},
   "outputs": [],
   "source": [
    "# Calculate the derivative dy/dx\n",
    "y.backward()"
   ]
  },
  {
   "cell_type": "code",
   "execution_count": 34,
   "id": "f0fd3f5d",
   "metadata": {},
   "outputs": [
    {
     "data": {
      "text/plain": [
       "tensor([1.3804])"
      ]
     },
     "execution_count": 34,
     "metadata": {},
     "output_type": "execute_result"
    }
   ],
   "source": [
    "# Now we can call the .grad attribute for x\n",
    "x.grad"
   ]
  },
  {
   "cell_type": "markdown",
   "id": "06914f14",
   "metadata": {},
   "source": [
    "<br>"
   ]
  },
  {
   "cell_type": "markdown",
   "id": "aad0c9e2",
   "metadata": {},
   "source": [
    "## **Examples:** Cost function with 3 weights"
   ]
  },
  {
   "cell_type": "markdown",
   "id": "3762c464",
   "metadata": {},
   "source": [
    "For us the most frequent application of the (partial) derivative is the minimization of a cost function. We want to find the weights that lead to the smallest costs in our model. We use the partial derivatives to find the direction and the extent of adjustment for each weight separately.\n",
    "\n",
    "Assume we have three features in our data. Then we have three weights and a bias in our model.\n",
    "\n",
    "$ \\mathbf{w} = \n",
    "\\begin{pmatrix}\n",
    "w_1 \\\\\n",
    "w_2 \\\\\n",
    "w_3 \n",
    "\\end{pmatrix}\n",
    "$\n",
    "\n",
    "In a linear model we get the predicted values from the linear combination of the values of a particular sample $\\left( x_{i,1}, x_{i, 2}, x_{i, 3} \\right) $ and the corresponding weights $ \\left( w_1, w_2, w_3 \\right) $ plus the bias $ b $:\n",
    "\n",
    "$ \\hat y_i =\n",
    "\\begin{pmatrix}\n",
    "x_{i,1} & x_{i, 2} & x_{i, 3}\n",
    "\\end{pmatrix} \\cdot\n",
    "\\begin{pmatrix}\n",
    "w_1 \\\\\n",
    "w_2 \\\\\n",
    "w_3\n",
    "\\end{pmatrix} + b = x_{i,1} w_1 + x_{i,2}w_2 + x_{i,3}w_3 + b $\n",
    "\n",
    "The cost function $J$ is usually the sum of the squared sample errors.\n",
    "\n",
    "$ J = \\displaystyle \\sum_i \\left( \\hat y_i - y_i \\right)^2 = \\sum_i \\big( \\underbrace{ x_{i,1} w_1 + x_{i,2}w_2 + x_{i,3}w_3 + b}_{\\hat y_i} - y_i \\big)^2 $\n",
    "\n",
    "Let's say we have only **2 samples** which we assign the **indices $ i=1,2 $**. Then the cost function becomes:\n",
    "\n",
    "$ J = \\displaystyle \\big( \\overbrace{ \\underbrace{x_{1,1} w_1 + x_{1,2}w_2 + x_{1,3}w_3 + b}_{\\hat y_1} -y_1}^{\\text{error of sample 1}} \\big)^2 + \\big( \\overbrace{ \\underbrace{x_{2,1} w_1 + x_{2,2}w_2 + x_{2,3}w_3 + b}_{\\hat y_2} - y_2}^{\\text{error of sample 2}} \\big)^2 $"
   ]
  },
  {
   "cell_type": "markdown",
   "id": "688969e1",
   "metadata": {},
   "source": [
    "According to the **chain rule** $ \\big( z \\big( y ( x )  \\big) \\rightarrow \\frac{dz}{dx} = \\frac{dz}{dy} \\cdot \\frac{dy}{dx} \\big) $ the derivatives of the cost function $ J $ with respect to the weights are:\n",
    "\n",
    "$\n",
    "\\displaystyle\n",
    "\\left.\n",
    "\\begin{matrix}\n",
    "\\displaystyle \\frac{\\partial J}{\\partial w_1} = 2 \\cdot \\left( x_{1,1} w_1 + x_{1,2}w_2 + x_{1,3} w_3 + b -y_1 \\right) \\cdot x_{1,1} + 2 \\cdot \\left( x_{2,1} w_1 + x_{2,2}w_2 + x_{2,3}w_3 + b - y_2 \\right) \\cdot x_{2,1} \\\\\n",
    "\\displaystyle \\frac{\\partial J}{\\partial w_2} = 2 \\cdot \\left( x_{1,1} w_1 + x_{1,2}w_2 + x_{1,3} w_3 + b -y_1 \\right) \\cdot x_{1,2} + 2 \\cdot \\left( x_{2,1} w_1 + x_{2,2}w_2 + x_{2,3}w_3 + b - y_2 \\right) \\cdot x_{2,2} \\\\\n",
    "\\displaystyle \\frac{\\partial J}{\\partial w_3} = 2 \\cdot \\left( x_{1,1} w_1 + x_{1,2}w_2 + x_{1,3} w_3 + b -y_1 \\right) \\cdot x_{1,3} + 2 \\cdot \\left( x_{2,1} w_1 + x_{2,2}w_2 + x_{2,3}w_3 + b - y_2 \\right) \\cdot x_{2,3}\n",
    "\\end{matrix}\n",
    "\\right\\}\n",
    "= \\frac{\\partial J}{\\partial w_j} = \\sum_i 2 \\cdot \\left( \\hat y_i - y_i \\right) \\cdot x_{i,j}\n",
    "$\n",
    "\n",
    "$\n",
    "\\displaystyle \\frac{\\partial J}{\\partial b} = 2 \\cdot \\left( x_{1,1} w_1 + x_{1,2}w_2 + x_{1,3} w_3 + b -y_1 \\right) + 2 \\cdot \\left( x_{2,1} w_1 + x_{2,2}w_2 + x_{2,3}w_3 + b - y_2 \\right)\n",
    "$"
   ]
  },
  {
   "cell_type": "markdown",
   "id": "93349cf0",
   "metadata": {},
   "source": [
    "Next, we assume some values and calculate the gradients **manually**. Let $X$ and $w$ have the following (starting) values:\n",
    "\n",
    "$\n",
    "X =\n",
    "\\begin{pmatrix}\n",
    "2 & 3 & 2 \\\\\n",
    "4 & 2.5 & 1.5\n",
    "\\end{pmatrix},\n",
    "\\quad\n",
    "w = \n",
    "\\begin{pmatrix}\n",
    "1 \\\\\n",
    "2 \\\\\n",
    "3\n",
    "\\end{pmatrix},\n",
    "\\quad\n",
    "y = \n",
    "\\begin{pmatrix}\n",
    "10 \\\\\n",
    "9\n",
    "\\end{pmatrix},\n",
    "\\quad\n",
    "b=0\n",
    "$"
   ]
  },
  {
   "cell_type": "markdown",
   "id": "ccca3207",
   "metadata": {},
   "source": [
    "$ \\displaystyle \\frac{\\partial J}{\\partial w_1} = 2 \\cdot \\big( \\overbrace{ 2 \\cdot 1 + 3 \\cdot 2 + 2 \\cdot 3 + 0 -10}^{4} \\big) \\cdot 2 + 2 \\cdot \\big( \\overbrace{ 4 \\cdot 1 + 2.5 \\cdot 2 + 1.5 \\cdot 3 + 0 - 9}^{4.5} \\big) \\cdot 4 = 52 $\n",
    "\n",
    "$ \\displaystyle \\frac{\\partial J}{\\partial w_2} = 2 \\cdot \\left( 2 \\cdot 1 + 3 \\cdot 2 + 2 \\cdot 3 + 0 -10 \\right) \\cdot 3 + 2 \\cdot \\left( 4 \\cdot 1 + 2.5 \\cdot 2 + 1.5 \\cdot 3 + 0 - 9 \\right) \\cdot 2.5 = 46.5 $\n",
    "\n",
    "$ \\displaystyle \\frac{\\partial J}{\\partial w_3} = 2 \\cdot \\left( 2 \\cdot 1 + 3 \\cdot 2 + 2 \\cdot 3 + 0 -10 \\right) \\cdot 2 + 2 \\cdot \\left( 4 \\cdot 1 + 2.5 \\cdot 2 + 1.5 \\cdot 3 + 0 - 9 \\right) \\cdot 1.5 = 29.5 $\n",
    "\n",
    "$ \\displaystyle \\frac{\\partial J}{\\partial b} = 2 \\cdot \\left( 2 \\cdot 1 + 3 \\cdot 2 + 2 \\cdot 3 + 0 -10 \\right) + 2 \\cdot \\left( 4 \\cdot 1 + 2.5 \\cdot 2 + 1.5 \\cdot 3 + 0 - 9 \\right) = 17 $"
   ]
  },
  {
   "cell_type": "code",
   "execution_count": 35,
   "id": "52180440-687c-44ec-b775-052010b8b161",
   "metadata": {},
   "outputs": [
    {
     "name": "stdout",
     "output_type": "stream",
     "text": [
      "Feature matrix X: \n",
      "tensor([[2.0000, 3.0000, 2.0000],\n",
      "        [4.0000, 2.5000, 1.5000]])\n"
     ]
    }
   ],
   "source": [
    "# Define feature matrix with two samples\n",
    "X = torch.tensor([[2., 3., 2.], [4., 2.5, 1.5]])\n",
    "print(f\"Feature matrix X: \\n{X}\")"
   ]
  },
  {
   "cell_type": "code",
   "execution_count": 36,
   "id": "f9236937-e0fd-4b1f-a388-a6e8f731a0b0",
   "metadata": {},
   "outputs": [
    {
     "name": "stdout",
     "output_type": "stream",
     "text": [
      "Weight vector w: \n",
      "tensor([1., 2., 3.], requires_grad=True)\n"
     ]
    }
   ],
   "source": [
    "# Define weight vector with initial values\n",
    "w = torch.tensor([1., 2., 3.], requires_grad=True)\n",
    "print(f\"Weight vector w: \\n{w}\")"
   ]
  },
  {
   "cell_type": "code",
   "execution_count": 37,
   "id": "98d1897e-af02-4885-b0f6-972f965ec087",
   "metadata": {},
   "outputs": [
    {
     "name": "stdout",
     "output_type": "stream",
     "text": [
      "Bias: \n",
      "tensor([0.], requires_grad=True)\n"
     ]
    }
   ],
   "source": [
    "# Define bias with initial value\n",
    "b = torch.tensor([0.], requires_grad=True)\n",
    "print(f\"Bias: \\n{b}\")"
   ]
  },
  {
   "cell_type": "code",
   "execution_count": 38,
   "id": "14a24b0a-66b0-470a-a49c-7fd2ea46df2b",
   "metadata": {},
   "outputs": [
    {
     "name": "stdout",
     "output_type": "stream",
     "text": [
      "True label vector y: \n",
      "tensor([10,  9])\n"
     ]
    }
   ],
   "source": [
    "# Define true value vector y\n",
    "y = torch.tensor([10, 9])\n",
    "print(f\"True label vector y: \\n{y}\")"
   ]
  },
  {
   "cell_type": "code",
   "execution_count": 39,
   "id": "5990d2c7-6023-48f2-9a29-bf54d5b8050e",
   "metadata": {},
   "outputs": [
    {
     "name": "stdout",
     "output_type": "stream",
     "text": [
      "Predicted labels y_hat: \n",
      "tensor([14.0000, 13.5000], grad_fn=<AddBackward0>)\n"
     ]
    }
   ],
   "source": [
    "# Calculate predicted labels y_hat\n",
    "y_hat = torch.matmul(X, w) + b\n",
    "print(f\"Predicted labels y_hat: \\n{y_hat}\")"
   ]
  },
  {
   "cell_type": "code",
   "execution_count": 40,
   "id": "e3c47dac-76fb-4c9f-bb97-c0dcf40103be",
   "metadata": {},
   "outputs": [
    {
     "name": "stdout",
     "output_type": "stream",
     "text": [
      "Costs J for given x, w and b: \n",
      "36.25\n"
     ]
    }
   ],
   "source": [
    "# Calculate costs J\n",
    "J = ((y_hat - y)**2).sum()\n",
    "print(f\"Costs J for given x, w and b: \\n{J}\")"
   ]
  },
  {
   "cell_type": "code",
   "execution_count": 41,
   "id": "728bc160",
   "metadata": {},
   "outputs": [],
   "source": [
    "# Calculate the gradient function\n",
    "J.backward()"
   ]
  },
  {
   "cell_type": "code",
   "execution_count": 42,
   "id": "ff96bbd4",
   "metadata": {},
   "outputs": [
    {
     "name": "stdout",
     "output_type": "stream",
     "text": [
      "dJ/dw1, dJ/dw2, dJ/dw3: \n",
      "tensor([52.0000, 46.5000, 29.5000])\n",
      "\n",
      "dJ/db: \n",
      "tensor([17.])\n"
     ]
    }
   ],
   "source": [
    "# Evaluate gradients for weights\n",
    "print(f\"dJ/dw1, dJ/dw2, dJ/dw3: \\n{w.grad}\")\n",
    "print(f\"\\ndJ/db: \\n{b.grad}\")"
   ]
  },
  {
   "cell_type": "markdown",
   "id": "5e712a5c",
   "metadata": {},
   "source": [
    "<br>"
   ]
  },
  {
   "cell_type": "markdown",
   "id": "f3f54232",
   "metadata": {},
   "source": [
    "## **Empty** gradients\n",
    "\n",
    "`backward()` **accumulates** the gradient into the `.grad` attribute. We need to be careful during optimization!\n",
    "$\\rightarrow$ Use `.zero_()` to empty the gradients before a new optimization step!"
   ]
  },
  {
   "cell_type": "code",
   "execution_count": 43,
   "id": "e8962584-2933-494d-ad9c-f86d78eff194",
   "metadata": {},
   "outputs": [
    {
     "name": "stdout",
     "output_type": "stream",
     "text": [
      "Initial weights:\n",
      "tensor([1., 1., 1., 1.], requires_grad=True)\n",
      "\n",
      "Weight in epoch 0: tensor([1., 1., 1., 1.], requires_grad=True)\n",
      "Weight in epoch 1: tensor([0.7000, 0.7000, 0.7000, 0.7000], requires_grad=True)\n",
      "Weight in epoch 2: tensor([0.4000, 0.4000, 0.4000, 0.4000], requires_grad=True)\n",
      "\n",
      "Final output: 4.799999713897705\n"
     ]
    }
   ],
   "source": [
    "# Define initial weights\n",
    "weights = torch.ones(4, requires_grad=True)\n",
    "print(f\"Initial weights:\\n{weights}\\n\")\n",
    "\n",
    "# Iterate over epochs\n",
    "for epoch in range(3):\n",
    "\n",
    "    #Forward propagation\n",
    "    output = (weights * 3).sum()\n",
    "    \n",
    "    # Calculate gradients\n",
    "    output.backward()\n",
    "    print(f\"Weight in epoch {epoch}: {weights}\")\n",
    "\n",
    "    # Adjust weights\n",
    "    with torch.no_grad():\n",
    "        weights -= 0.1 * weights.grad\n",
    "\n",
    "    # Empty gradient before new epoch!\n",
    "    weights.grad.zero_()\n",
    "\n",
    "print(f\"\\nFinal output: {output}\")"
   ]
  },
  {
   "cell_type": "markdown",
   "id": "e1436001",
   "metadata": {},
   "source": [
    "<br>"
   ]
  },
  {
   "attachments": {
    "f1d12c0a-2d79-4838-ac8d-a248a1a08738.png": {
     "image/png": "[encoded data removed]"
    }
   },
   "cell_type": "markdown",
   "id": "590bea0f",
   "metadata": {},
   "source": [
    "# **Implementation example:** Linear regression\n",
    "\n",
    "In order to demonstrate the use of PyTorch in practice let's implement a linear regression model once **manually** and once **with PyTorch**. We stick with the standard equations for predicting $\\hat y$ and calculating the loss $J$ (cost function):\n",
    "\n",
    "$ \\displaystyle \\hat y = \\mathbf{X} \\cdot \\mathbf{w} + b \\quad \\quad J = \\frac{1}{N} \\sum \\limits_{i=1}^{N} \\left( \\hat y - y \\right)^2$\n",
    "\n",
    "Here, we want to check the calculation results in 3D. Hence, in our particular example $\\mathbf{w}$ is a vector of **2 weights** and $\\mathbf{X}$ is the feature matrix with **100 samples** and **2 features** each.\n",
    "\n",
    "![grafik.png](attachment:f1d12c0a-2d79-4838-ac8d-a248a1a08738.png)"
   ]
  },
  {
   "cell_type": "markdown",
   "id": "a2b55514",
   "metadata": {},
   "source": [
    "<br>"
   ]
  },
  {
   "cell_type": "markdown",
   "id": "9d7af2de",
   "metadata": {},
   "source": [
    "## Data preparation"
   ]
  },
  {
   "cell_type": "code",
   "execution_count": 44,
   "id": "05c2484b",
   "metadata": {},
   "outputs": [],
   "source": [
    "import torch\n",
    "import torch.nn as nn\n",
    "import numpy as np\n",
    "from sklearn import datasets\n",
    "import matplotlib.pyplot as plt\n",
    "\n",
    "# Prepare dummy data\n",
    "X_numpy, y_numpy = datasets.make_regression(n_samples=100, n_features=2, noise=20, random_state=4)\n",
    "\n",
    "# Cast to tensors\n",
    "X_numpy *= 15\n",
    "X = torch.from_numpy(X_numpy.astype(np.float32))\n",
    "y = torch.from_numpy(y_numpy.astype(np.float32))\n",
    "y = y.view(y.shape[0], 1)\n",
    "\n",
    "# Number of samples and features\n",
    "n_samples, n_features = X.shape"
   ]
  },
  {
   "cell_type": "markdown",
   "id": "ac0ad3be",
   "metadata": {},
   "source": [
    "<br>"
   ]
  },
  {
   "cell_type": "markdown",
   "id": "9282d8e4",
   "metadata": {},
   "source": [
    "## **Manual** implementation\n",
    "\n",
    "For the manual implementation we need the gradients of the cost function (loss) with respect to the **weights** and the **bias**.\n",
    "\n",
    "$ \\displaystyle J = \\frac{1}{N} \\sum \\limits_{i=1}^{N} \\left( \\hat y - y \\right)^2 =  \\frac{1}{N} \\sum \\limits_{i=1}^{N} \\left( \\mathbf{X} \\cdot \\mathbf{w} + b - y \\right)^2 $\n",
    "\n",
    "$ \\displaystyle \\frac{\\partial J}{\\partial w_j} = \\frac{1}{N} \\sum \\limits_{i=1}^{N}  2 \\cdot \\left( \\hat y_i - y_i \\right) \\cdot x_{i, j} \\quad \\quad $ or in matrix-vector-notation $\\quad \\quad \\displaystyle \\frac{\\partial J}{\\partial \\mathbf{w}} = \\frac{1}{N} \\cdot \\mathbf{X^T} \\cdot 2 \\left( \\mathbf{\\hat y} - \\mathbf{y} \\right) \\quad \\quad $ and for the bias\n",
    "\n",
    "$ \\displaystyle \\frac{\\partial J}{\\partial b} = \\frac{1}{N} \\sum \\limits_{i=1}^{N}  2 \\cdot \\left( \\hat y_i - y_i \\right) $"
   ]
  },
  {
   "cell_type": "code",
   "execution_count": 45,
   "id": "09e81afb",
   "metadata": {},
   "outputs": [
    {
     "name": "stdout",
     "output_type": "stream",
     "text": [
      "Using matplotlib backend: <object object at 0x0000025F4B3A9270>\n",
      "epoch: 65, loss = 473.834, weight = tensor([[3.8057],\n",
      "        [0.3965]]), bias = 0.080\n"
     ]
    }
   ],
   "source": [
    "%matplotlib\n",
    "\n",
    "\n",
    "# Set up linear model y = X*w + b\n",
    "def forward(X):\n",
    "    return torch.matmul(X, w) + b\n",
    "\n",
    "# Set up loss function (MSE)\n",
    "def loss(y_pred, y):\n",
    "    # loss = 1/N * (y_pred - y)**2\n",
    "    return ((y_pred - y)**2).mean()\n",
    "\n",
    "# Gradients\n",
    "def gradients(X, y, y_pred):\n",
    "    # dJ/dw = 1/N * 2X dot (y_pred - y)\n",
    "    dw = torch.matmul(X.T, 2*(y_pred - y)) / X.size(0)\n",
    "    # dJ/db = 2/N * Sum(y_pred - y)\n",
    "    db = 2 * (y_pred - y).sum() / X.size(0)\n",
    "    return dw, db\n",
    "\n",
    "# Initialize weights and bias\n",
    "w = torch.tensor([[0.], [0.]])\n",
    "b = torch.tensor([0.])\n",
    "\n",
    "# Prepare plot\n",
    "x1_min = X[:,0].min().item(); x1_max = X[:,0].max().item()\n",
    "x2_min = X[:,1].min().item(); x2_max = X[:,1].max().item()\n",
    "X1_p, X2_p = np.meshgrid(np.arange(x1_min, x1_max), np.arange(x2_min, x2_max))\n",
    "\n",
    "# Training loop\n",
    "num_epochs = 65\n",
    "learning_rate = 0.0001\n",
    "fig = plt.figure(figsize=(10,6))\n",
    "ax = fig.add_subplot(projection='3d')\n",
    "\n",
    "for epoch in range(num_epochs):\n",
    "    # Forward pass\n",
    "    y_pred = forward(X)\n",
    "    \n",
    "    # Loss\n",
    "    l = loss(y_pred, y)\n",
    "    \n",
    "    # Calculate gradients\n",
    "    g = gradients(X, y, y_pred)\n",
    "    dw = g[0]\n",
    "    db = g[1]\n",
    "\n",
    "    # Update weight and bias\n",
    "    w -= learning_rate * dw\n",
    "    b -= learning_rate * db\n",
    "\n",
    "    # Plot intermediate results\n",
    "    if (epoch+1) % 1 == 0:\n",
    "        # Plot actual regression line\n",
    "        ax.clear()\n",
    "        ax.set_title('Linear regression: Find weights and bias', fontsize=16)\n",
    "        ax.set_xlabel('Feature $x_1$', fontsize=12)\n",
    "        ax.set_ylabel('Feature $x_2$', fontsize=12)\n",
    "        ax.set_zlabel('Dependent variable y', fontsize=12)\n",
    "        ax.scatter(X[:,0].numpy(), X[:,1].numpy(), y.numpy(), color='red')\n",
    "        Y_p = w[0]*X1_p + w[1]*X2_p + b\n",
    "        Y_p = Y_p.numpy()\n",
    "        ax.plot_surface(X1_p, X2_p, Y_p, color='blue', alpha=0.5)\n",
    "        plt.pause(0.3)\n",
    "\n",
    "plt.show(block=True)\n",
    "\n",
    "# Plot regression data\n",
    "print(f'epoch: {epoch+1}, loss = {l.item():.3f}, weight = {w}, bias = {b.item():.3f}')"
   ]
  },
  {
   "cell_type": "markdown",
   "id": "b0a8ba30",
   "metadata": {},
   "source": [
    "<br>"
   ]
  },
  {
   "cell_type": "markdown",
   "id": "6db8177b",
   "metadata": {},
   "source": [
    "## **PyTorch** implementation"
   ]
  },
  {
   "cell_type": "code",
   "execution_count": 46,
   "id": "5aa66520",
   "metadata": {},
   "outputs": [
    {
     "name": "stdout",
     "output_type": "stream",
     "text": [
      "Using matplotlib backend: QtAgg\n",
      "epoch: 65, loss = 471.879, weight = tensor([3.7938, 0.3863], grad_fn=<SelectBackward0>), bias = 0.493\n"
     ]
    }
   ],
   "source": [
    "%matplotlib\n",
    "\n",
    "# Set up linear model y = X*w + b\n",
    "input_size = n_features\n",
    "output_size = 1\n",
    "model = nn.Linear(input_size, output_size)\n",
    "\n",
    "# Set up loss function (MSE) and optimizer\n",
    "learning_rate = 0.0001\n",
    "criterion = nn.MSELoss()\n",
    "optimizer = torch.optim.SGD(model.parameters(), lr=learning_rate)  \n",
    "\n",
    "# Prepare plot\n",
    "x1_min = X[:,0].min().item(); x1_max = X[:,0].max().item()\n",
    "x2_min = X[:,1].min().item(); x2_max = X[:,1].max().item()\n",
    "X1_p, X2_p = np.meshgrid(np.arange(x1_min, x1_max), np.arange(x2_min, x2_max))\n",
    "\n",
    "# Training loop\n",
    "num_epochs = 65\n",
    "fig = plt.figure(figsize=(10,6))\n",
    "ax = fig.add_subplot(projection='3d')\n",
    "\n",
    "for epoch in range(num_epochs):\n",
    "    # Forward pass\n",
    "    y_pred = model(X)\n",
    "    loss = criterion(y_pred, y)\n",
    "    \n",
    "    # Backward pass and weight update\n",
    "    loss.backward()\n",
    "    optimizer.step()\n",
    "\n",
    "    # Zero grad before new step\n",
    "    optimizer.zero_grad()\n",
    "    \n",
    "    # Plot intermediate results\n",
    "    if (epoch+1) % 1 == 0:\n",
    "        w = model.weight[0]\n",
    "        b = model.bias\n",
    "        ax.clear()\n",
    "        ax.set_title('Linear regression: Find weights and bias', fontsize=16)\n",
    "        ax.set_xlabel('Feature $x_1$', fontsize=12)\n",
    "        ax.set_ylabel('Feature $x_2$', fontsize=12)\n",
    "        ax.set_zlabel('Dependent variable y', fontsize=12)\n",
    "        ax.scatter(X[:,0].numpy(), X[:,1].numpy(), y.numpy(), color='red')\n",
    "        Y_p = w[0].item()*X1_p + w[1].item()*X2_p + b.item()\n",
    "        ax.plot_surface(X1_p, X2_p, Y_p, color='blue', alpha=0.5)\n",
    "        plt.pause(0.3)\n",
    "\n",
    "plt.show()\n",
    "\n",
    "# Plot regression data\n",
    "print(f'epoch: {epoch+1}, loss = {loss.item():.3f}, weight = {w}, bias = {b.item():.3f}')"
   ]
  },
  {
   "cell_type": "markdown",
   "id": "a791d5bf",
   "metadata": {},
   "source": [
    "<br>"
   ]
  },
  {
   "cell_type": "markdown",
   "id": "e0ef9310",
   "metadata": {},
   "source": [
    "# **MLP in PyTorch** - handwritten digit recognition\n",
    "\n",
    "As the final task of this session we want to implement the **Multi Layer Perceptron** from last session in **PyTorch**."
   ]
  },
  {
   "cell_type": "markdown",
   "id": "16f96adb",
   "metadata": {},
   "source": [
    "## Load libraries"
   ]
  },
  {
   "cell_type": "code",
   "execution_count": 1,
   "id": "0d25bdcd",
   "metadata": {},
   "outputs": [],
   "source": [
    "import torch\n",
    "import torch.nn as nn\n",
    "import numpy as np\n",
    "from torch.utils.data import TensorDataset, DataLoader\n",
    "import matplotlib.pyplot as plt"
   ]
  },
  {
   "cell_type": "markdown",
   "id": "8e4a9c35",
   "metadata": {},
   "source": [
    "<br>"
   ]
  },
  {
   "cell_type": "markdown",
   "id": "69f6defe",
   "metadata": {},
   "source": [
    "## Load data"
   ]
  },
  {
   "cell_type": "code",
   "execution_count": 2,
   "id": "d660513e-3ae9-420b-bd6a-a4ac6a38700f",
   "metadata": {},
   "outputs": [],
   "source": [
    "# Data is stored in numpy zip file (.npz)\n",
    "mnist = np.load('mnist_scaled.npz')\n",
    "\n",
    "# Unpack data into train and test variables\n",
    "X_train, y_train, X_test, y_test = [mnist[f] for f in ['X_train', 'y_train', \n",
    "                                    'X_test', 'y_test']]\n",
    "\n",
    "# Clear memory\n",
    "del mnist"
   ]
  },
  {
   "cell_type": "code",
   "execution_count": 3,
   "id": "307fe08a-378c-415b-880c-7f8f4a351b80",
   "metadata": {},
   "outputs": [
    {
     "name": "stdout",
     "output_type": "stream",
     "text": [
      "Shape X_train: (60000, 1, 28, 28)\n",
      "Shape y_train: (60000,)\n",
      "Shape X_test: (10000, 1, 28, 28)\n",
      "Shape y_test: (10000,)\n"
     ]
    }
   ],
   "source": [
    "# Reshape arrays to 1x28x28 (1 color channel, 28x28 pixels)\n",
    "X_train = X_train.reshape(-1,1,28,28)\n",
    "X_test = X_test.reshape(-1,1,28,28)\n",
    "\n",
    "# Check dimensions\n",
    "print(f\"Shape X_train: {X_train.shape}\")\n",
    "print(f\"Shape y_train: {y_train.shape}\")\n",
    "print(f\"Shape X_test: {X_test.shape}\")\n",
    "print(f\"Shape y_test: {y_test.shape}\")"
   ]
  },
  {
   "cell_type": "markdown",
   "id": "f8647b20-91ba-4789-824f-e0c1d2aaf3e8",
   "metadata": {},
   "source": [
    "<br>"
   ]
  },
  {
   "cell_type": "markdown",
   "id": "bd018834-5859-4335-8711-fbf68a3369ce",
   "metadata": {},
   "source": [
    "## Define **datasets** and **dataloaders**"
   ]
  },
  {
   "cell_type": "code",
   "execution_count": 4,
   "id": "fe8dd7af",
   "metadata": {},
   "outputs": [],
   "source": [
    "minibatch_size = 300\n",
    "\n",
    "# Datasets (bundles of values and labels under the same index)\n",
    "train_dataset = TensorDataset(torch.tensor(X_train[:55000], dtype=torch.float32),\n",
    "                              torch.tensor(y_train[:55000], dtype=torch.int64))\n",
    "val_dataset = TensorDataset(torch.tensor(X_train[55000:], dtype=torch.float32),\n",
    "                            torch.tensor(y_train[55000:], dtype=torch.int64))\n",
    "test_dataset = TensorDataset(torch.tensor(X_test, dtype=torch.float32),\n",
    "                             torch.tensor(y_test, dtype=torch.int64))\n",
    "\n",
    "# Dataloader (iterator over the datasets)\n",
    "train_loader = DataLoader(dataset=train_dataset, batch_size=minibatch_size, shuffle=True)\n",
    "val_loader = DataLoader(dataset=val_dataset, batch_size=minibatch_size, shuffle=False)\n",
    "test_loader = DataLoader(dataset=test_dataset, batch_size=minibatch_size, shuffle=False)"
   ]
  },
  {
   "cell_type": "markdown",
   "id": "c68669a5",
   "metadata": {},
   "source": [
    "<br>"
   ]
  },
  {
   "cell_type": "markdown",
   "id": "65aee759",
   "metadata": {},
   "source": [
    "## Quick check data"
   ]
  },
  {
   "cell_type": "code",
   "execution_count": 5,
   "id": "94e26215-a287-4bff-8104-9386616dae71",
   "metadata": {},
   "outputs": [],
   "source": [
    "# Load first batch of pictures with dataloader\n",
    "examples = iter(test_loader)\n",
    "example_data, example_targets = next(examples)"
   ]
  },
  {
   "cell_type": "code",
   "execution_count": 6,
   "id": "700fc263-c81e-43b5-a0a7-20b6570eaf8a",
   "metadata": {},
   "outputs": [
    {
     "data": {
      "image/png": "[encoded data removed]",
      "text/plain": [
       "<Figure size 640x480 with 6 Axes>"
      ]
     },
     "metadata": {},
     "output_type": "display_data"
    }
   ],
   "source": [
    "%matplotlib inline\n",
    "\n",
    "# Plot the first 6 pictures in two rows\n",
    "for i in range(6):\n",
    "    plt.subplot(2,3,i+1)\n",
    "    plt.imshow(example_data[i][0], cmap='gray')\n",
    "    plt.title(f\"True labels: {example_targets[i]}\")\n",
    "    plt.xticks([]); plt.yticks([])\n",
    "plt.show()"
   ]
  },
  {
   "cell_type": "markdown",
   "id": "a23b9bc6",
   "metadata": {},
   "source": [
    "<br>"
   ]
  },
  {
   "attachments": {
    "f6991833-c399-4460-ac8d-aa7044cdb571.png": {
     "image/png": "[encoded data removed]"
    }
   },
   "cell_type": "markdown",
   "id": "764675c2",
   "metadata": {},
   "source": [
    "## **Implement** MLP in Pytorch\n",
    "\n",
    "Our fully-connected feed-forward Neural Network has one **input layer**, one **hidden layer** and one **output layer**.\n",
    "\n",
    "![grafik.png](attachment:f6991833-c399-4460-ac8d-aa7044cdb571.png)"
   ]
  },
  {
   "cell_type": "markdown",
   "id": "b88b3b3f",
   "metadata": {},
   "source": [
    "<br>"
   ]
  },
  {
   "cell_type": "markdown",
   "id": "4949e92b",
   "metadata": {},
   "source": [
    "### Define the **network structure**"
   ]
  },
  {
   "cell_type": "markdown",
   "id": "cb2c495b",
   "metadata": {},
   "source": [
    "The structure of implementation in PyTorch is different to our manual implementation. In PyTorch, we encapsulate only the core structure of the network - the layers - in a class."
   ]
  },
  {
   "cell_type": "code",
   "execution_count": 7,
   "id": "35ace825",
   "metadata": {},
   "outputs": [],
   "source": [
    "class NeuralNet_PyTorch(nn.Module):\n",
    "    \"\"\"\n",
    "    Core definitions of MLP implemented in PyTorch\n",
    "\n",
    "    Parameters\n",
    "    ==========\n",
    "    n_input : int\n",
    "        Number of input units\n",
    "    n_hidden : int (default: 30)\n",
    "        Number of hidden units\n",
    "    n_output : int (default: 10)\n",
    "        Number of output units\n",
    "\n",
    "    Methods\n",
    "    =======\n",
    "    forward:\n",
    "        Computes forward propagation\n",
    "    \"\"\"\n",
    "\n",
    "    def __init__(self, n_input, n_hidden=30, n_output=10):\n",
    "        super(NeuralNet_PyTorch, self).__init__()\n",
    "        self.n_input = n_input\n",
    "        self.n_hidden = n_hidden\n",
    "        self.n_output = n_output\n",
    "\n",
    "        # Define model layers\n",
    "        self.model_layers = nn.Sequential(\n",
    "            nn.Flatten(),\n",
    "            nn.Linear(self.n_input, self.n_hidden),\n",
    "            nn.Sigmoid(),\n",
    "            nn.Linear(self.n_hidden, self.n_output),\n",
    "            #nn.Sigmoid()\n",
    "        )\n",
    "        \n",
    "    def forward(self, x):\n",
    "        out = self.model_layers(x)\n",
    "        return out"
   ]
  },
  {
   "cell_type": "markdown",
   "id": "428dc19a",
   "metadata": {},
   "source": [
    "<br>"
   ]
  },
  {
   "cell_type": "markdown",
   "id": "49ec28e7",
   "metadata": {},
   "source": [
    "### Define test function"
   ]
  },
  {
   "cell_type": "code",
   "execution_count": 8,
   "id": "33553194",
   "metadata": {},
   "outputs": [],
   "source": [
    "def test(dataloader, model):\n",
    "    # Get dataset size\n",
    "    dataset_size = len(dataloader.dataset)\n",
    "    \n",
    "    # Set model in evaluation mode\n",
    "    model.eval()\n",
    "\n",
    "    # Turn off gradient calculation for validation\n",
    "    with torch.no_grad():\n",
    "        # Loop over dataset\n",
    "        correct = 0\n",
    "        for images, labels in dataloader:\n",
    "            images, labels = images.to(device), labels.to(device)\n",
    "            \n",
    "            # Get raw values from model (=forward propagation)\n",
    "            output = model(images)\n",
    "            \n",
    "            # Derive prediction\n",
    "            y_pred = output.argmax(1)\n",
    "            \n",
    "            # Count correct classifications over all batches\n",
    "            correct += (y_pred == labels).type(torch.float32).sum().item()\n",
    "\n",
    "        # Calculate accuracy\n",
    "        acc = correct / dataset_size\n",
    "        \n",
    "    return acc"
   ]
  },
  {
   "cell_type": "markdown",
   "id": "e015af74",
   "metadata": {},
   "source": [
    "<br>"
   ]
  },
  {
   "cell_type": "markdown",
   "id": "79eb978d",
   "metadata": {},
   "source": [
    "## **Apply** NeuralNet_PyTorch for **image recognition**"
   ]
  },
  {
   "cell_type": "markdown",
   "id": "bd735918",
   "metadata": {},
   "source": [
    "### Define parameters"
   ]
  },
  {
   "cell_type": "code",
   "execution_count": 9,
   "id": "eaa66d28",
   "metadata": {},
   "outputs": [
    {
     "name": "stdout",
     "output_type": "stream",
     "text": [
      "Using cuda device\n"
     ]
    }
   ],
   "source": [
    "# Device configuration\n",
    "device = torch.device('cuda' if torch.cuda.is_available() else 'cpu')\n",
    "print(f\"Using {device} device\")\n",
    "\n",
    "# Hyper-parameters \n",
    "n_input = 28*28  # = 784\n",
    "n_hidden = 100\n",
    "n_output = 10\n",
    "epochs = 100\n",
    "learning_rate = 0.0005\n",
    "shuffle = True"
   ]
  },
  {
   "cell_type": "markdown",
   "id": "825d31a2",
   "metadata": {},
   "source": [
    "<br>"
   ]
  },
  {
   "cell_type": "markdown",
   "id": "15092b93",
   "metadata": {},
   "source": [
    "### **Fit()** the model"
   ]
  },
  {
   "cell_type": "code",
   "execution_count": 10,
   "id": "c50a8cc9",
   "metadata": {},
   "outputs": [
    {
     "name": "stdout",
     "output_type": "stream",
     "text": [
      "NeuralNet_PyTorch(\n",
      "  (model_layers): Sequential(\n",
      "    (0): Flatten(start_dim=1, end_dim=-1)\n",
      "    (1): Linear(in_features=784, out_features=100, bias=True)\n",
      "    (2): Sigmoid()\n",
      "    (3): Linear(in_features=100, out_features=10, bias=True)\n",
      "  )\n",
      ")\n"
     ]
    }
   ],
   "source": [
    "# Instanciate the network\n",
    "model = NeuralNet_PyTorch(n_input, n_hidden, n_output).to(device)\n",
    "print(model)"
   ]
  },
  {
   "cell_type": "code",
   "execution_count": 11,
   "id": "27b5b9c4",
   "metadata": {},
   "outputs": [
    {
     "name": "stdout",
     "output_type": "stream",
     "text": [
      "Epoch [5/100], Loss: 0.2287\n",
      "      Training accuracy: 91.8%\n",
      "      Validation accuracy: 93.9%\n",
      "Epoch [10/100], Loss: 0.1927\n",
      "      Training accuracy: 94.3%\n",
      "      Validation accuracy: 95.8%\n",
      "Epoch [15/100], Loss: 0.1428\n",
      "      Training accuracy: 95.7%\n",
      "      Validation accuracy: 96.5%\n",
      "Epoch [20/100], Loss: 0.0458\n",
      "      Training accuracy: 96.7%\n",
      "      Validation accuracy: 97.0%\n",
      "Epoch [25/100], Loss: 0.0714\n",
      "      Training accuracy: 97.4%\n",
      "      Validation accuracy: 97.1%\n",
      "Epoch [30/100], Loss: 0.0628\n",
      "      Training accuracy: 97.9%\n",
      "      Validation accuracy: 97.5%\n",
      "Epoch [35/100], Loss: 0.0565\n",
      "      Training accuracy: 98.2%\n",
      "      Validation accuracy: 97.6%\n",
      "Epoch [40/100], Loss: 0.0737\n",
      "      Training accuracy: 98.6%\n",
      "      Validation accuracy: 97.5%\n",
      "Epoch [45/100], Loss: 0.1018\n",
      "      Training accuracy: 98.9%\n",
      "      Validation accuracy: 97.6%\n",
      "Epoch [50/100], Loss: 0.0586\n",
      "      Training accuracy: 99.1%\n",
      "      Validation accuracy: 97.7%\n",
      "Epoch [55/100], Loss: 0.0401\n",
      "      Training accuracy: 99.3%\n",
      "      Validation accuracy: 97.8%\n",
      "Epoch [60/100], Loss: 0.0219\n",
      "      Training accuracy: 99.5%\n",
      "      Validation accuracy: 97.6%\n",
      "Epoch [65/100], Loss: 0.0213\n",
      "      Training accuracy: 99.6%\n",
      "      Validation accuracy: 97.7%\n",
      "Epoch [70/100], Loss: 0.0209\n",
      "      Training accuracy: 99.7%\n",
      "      Validation accuracy: 97.9%\n",
      "Epoch [75/100], Loss: 0.0074\n",
      "      Training accuracy: 99.8%\n",
      "      Validation accuracy: 97.8%\n",
      "Epoch [80/100], Loss: 0.0048\n",
      "      Training accuracy: 99.8%\n",
      "      Validation accuracy: 97.9%\n",
      "Epoch [85/100], Loss: 0.0156\n",
      "      Training accuracy: 99.9%\n",
      "      Validation accuracy: 97.8%\n",
      "Epoch [90/100], Loss: 0.0043\n",
      "      Training accuracy: 99.9%\n",
      "      Validation accuracy: 97.9%\n",
      "Epoch [95/100], Loss: 0.0077\n",
      "      Training accuracy: 100.0%\n",
      "      Validation accuracy: 97.8%\n",
      "Epoch [100/100], Loss: 0.0151\n",
      "      Training accuracy: 100.0%\n",
      "      Validation accuracy: 97.7%\n"
     ]
    }
   ],
   "source": [
    "# Define cost function (loss) and optimizer\n",
    "loss = nn.CrossEntropyLoss()\n",
    "optimizer = torch.optim.Adam(model.parameters(), lr=learning_rate)\n",
    "\n",
    "# Loop over epochs\n",
    "for epoch in range(epochs):\n",
    "    n_correct=0; n_samples=0\n",
    "    for idx, (images, labels) in enumerate(train_loader):\n",
    "        images, labels = images.to(device), labels.to(device)\n",
    "        \n",
    "        # Forward pass\n",
    "        outputs = model(images)\n",
    "        l = loss(outputs, labels)\n",
    "              \n",
    "        # Backward and optimize\n",
    "        optimizer.zero_grad()\n",
    "        l.backward()\n",
    "        optimizer.step()\n",
    "\n",
    "        # Get prediced labels (.max returns (value ,index))\n",
    "        _, y_pred = torch.max(outputs.data, 1)\n",
    "\n",
    "        # Count correct classifications\n",
    "        n_correct += (y_pred == labels).sum().item()\n",
    "        n_samples += labels.size(0)\n",
    "        \n",
    "    # At end of epoch: Eval accuracy and print information\n",
    "    if (epoch+1) % 5 == 0:\n",
    "        \n",
    "        # Calculate accuracy\n",
    "        acc_train = n_correct / n_samples\n",
    "        acc_val = test(val_loader, model)\n",
    "        \n",
    "        # Print info\n",
    "        print (f\"Epoch [{epoch+1}/{epochs}], Loss: {l.item():.4f}\")\n",
    "        print(f\"      Training accuracy: {acc_train*100:.1f}%\")\n",
    "        print(f\"      Validation accuracy: {acc_val*100:.1f}%\")"
   ]
  },
  {
   "cell_type": "markdown",
   "id": "9835be5b",
   "metadata": {},
   "source": [
    "<br>"
   ]
  },
  {
   "cell_type": "markdown",
   "id": "aba1b8a0",
   "metadata": {},
   "source": [
    "### **Test** model with unseen data"
   ]
  },
  {
   "cell_type": "code",
   "execution_count": 12,
   "id": "791f32d6",
   "metadata": {},
   "outputs": [
    {
     "name": "stdout",
     "output_type": "stream",
     "text": [
      "Test accuracy: 97.4%\n"
     ]
    }
   ],
   "source": [
    "# Call 'test' function for test dataloader\n",
    "acc_test = test(test_loader, model)\n",
    "\n",
    "# Print result\n",
    "print(f\"Test accuracy: {acc_test*100:.1f}%\")"
   ]
  },
  {
   "cell_type": "markdown",
   "id": "91a5616b",
   "metadata": {},
   "source": [
    "<br>"
   ]
  },
  {
   "cell_type": "code",
   "execution_count": null,
   "id": "43bc7cd4",
   "metadata": {},
   "outputs": [],
   "source": []
  }
 ],
 "metadata": {
  "kernelspec": {
   "display_name": "Python 3 (ipykernel)",
   "language": "python",
   "name": "python3"
  },
  "language_info": {
   "codemirror_mode": {
    "name": "ipython",
    "version": 3
   },
   "file_extension": ".py",
   "mimetype": "text/x-python",
   "name": "python",
   "nbconvert_exporter": "python",
   "pygments_lexer": "ipython3",
   "version": "3.9.18"
  },
  "toc-autonumbering": true
 },
 "nbformat": 4,
 "nbformat_minor": 5
}
