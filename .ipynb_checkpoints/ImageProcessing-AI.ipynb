{
 "cells": [
  {
   "cell_type": "code",
   "execution_count": 1,
   "id": "54fef2c2-d83c-4c06-8b70-37c0b695e34b",
   "metadata": {},
   "outputs": [
    {
     "name": "stdout",
     "output_type": "stream",
     "text": [
      "tensor([[0., 0., 0.]])\n"
     ]
    }
   ],
   "source": [
    "import torch\n",
    "\n",
    "x=torch.zeros(1,3)\n",
    "print(x)"
   ]
  },
  {
   "cell_type": "code",
   "execution_count": 8,
   "id": "2b26ee4c-85e4-42c8-9d7e-6f487aa2fe89",
   "metadata": {},
   "outputs": [
    {
     "name": "stdout",
     "output_type": "stream",
     "text": [
      "tensor([[[ 1.0268, -0.4117, -0.2092, -0.1111],\n",
      "         [ 2.4481, -1.1695, -1.3947, -0.7408],\n",
      "         [-0.1353,  0.8810,  0.5990, -0.2270]],\n",
      "\n",
      "        [[ 0.6243, -0.3119,  0.3502,  1.0189],\n",
      "         [-1.5358, -0.2705,  0.5408, -0.5231],\n",
      "         [ 1.2017,  0.4787, -0.0067, -1.1701]]])\n",
      "torch.float32\n"
     ]
    }
   ],
   "source": [
    "x = torch.randn([2,3,4])\n",
    "print(x)\n",
    "print(x.dtype)"
   ]
  },
  {
   "cell_type": "markdown",
   "id": "b4e35216-59e1-428b-bfdf-92dcae4ea3b4",
   "metadata": {},
   "source": [
    "Linear regression"
   ]
  },
  {
   "cell_type": "markdown",
   "id": "e621fedb-2546-404b-8fb0-523c58f2811a",
   "metadata": {},
   "source": [
    "Data Preparation"
   ]
  },
  {
   "cell_type": "code",
   "execution_count": 1,
   "id": "8d1c724a-00f6-4b11-8b44-ae719545c227",
   "metadata": {},
   "outputs": [],
   "source": [
    "import torch\n",
    "import torch.nn as nn\n",
    "from sklearn import datasets\n",
    "import numpy as np\n",
    "import matplotlib.pyplot as plt\n",
    "\n",
    "x_num, y_num = datasets.make_regression(n_samples=100, n_features=2, noise =20, random_state =4)\n",
    "\n",
    "x_num *= 15\n",
    "\n",
    "X = torch.from_numpy(x_num.astype(np.float32))\n",
    "y = torch.from_numpy(y_num.astype(np.float32))\n",
    "\n",
    "y = y.view(y.shape[0],1)\n",
    "\n",
    "n_samples, n_features = X.shape\n",
    "\n",
    "#print(x)\n",
    "#print(y)\n"
   ]
  },
  {
   "cell_type": "markdown",
   "id": "1994b090-6057-48ad-91a5-1c21367db61c",
   "metadata": {},
   "source": [
    "Manual Implementation\n",
    "\n"
   ]
  },
  {
   "cell_type": "code",
   "execution_count": 2,
   "id": "d4335470-843d-4803-81ef-bf2158bd47d9",
   "metadata": {},
   "outputs": [
    {
     "name": "stdout",
     "output_type": "stream",
     "text": [
      "Using matplotlib backend: <object object at 0x0000027C70062BF0>\n"
     ]
    }
   ],
   "source": [
    "%matplotlib\n",
    "\n",
    "def forward(X):\n",
    "    y_pred =  torch.matmul(X,w) + b\n",
    "    return y_pred\n",
    "\n",
    "def loss(y_pred, y):\n",
    "    return ((y_pred - y)**2).mean()\n",
    "\n",
    "def gradiant(y_pred,y,X):\n",
    "\n",
    "    dw = torch.matmul(X.T, 2*(y_pred - y))/X.size(0)\n",
    "\n",
    "    db = 2*(y_pred - y).sum()/X.size(0)\n",
    "\n",
    "    return dw,db\n",
    "\n",
    "w = torch.tensor(([0.],[0.]))\n",
    "b = torch.tensor([0.])\n",
    "\n",
    "x1_min = X[:,0].min().item();x1_max = X[:,0].max().item()\n",
    "x2_min = X[:,1].min().item();x2_max = X[:,1].max().item()\n",
    "\n",
    "X1_p, X2_p = np.meshgrid(np.arange(x1_min,x1_max),np.arange(x2_min,x2_max))\n",
    "\n",
    "#Traning loop\n",
    "nums_epoch = 65\n",
    "learning_rate = 0.0001\n",
    "fig = plt.figure(figsize=(10,6))\n",
    "ax = fig.add_subplot(projection ='3d')\n",
    "\n",
    "for epoch in range(nums_epoch):\n",
    "\n",
    "    y_pred = forward(X)\n",
    "\n",
    "    l = loss(y_pred,y)\n",
    "\n",
    "    g = gradiant(y_pred,y,X)\n",
    "    dw = g[0]\n",
    "    db = g[1]\n",
    "\n",
    "    w -= learning_rate * dw\n",
    "    b -= learning_rate * db\n",
    "\n",
    "    if(epoch+1)% 1 == 0:\n",
    "\n",
    "        ax.clear()\n",
    "        ax.set_title('Linear regression: find weight and bias', fontsize=16)\n",
    "        ax.set_xlabel('Feature $x_1$', fontsize=12)\n",
    "        ax.set_ylabel('Feature $x_2$', fontsize=12)\n",
    "        ax.set_zlabel('Depend variable y', fontsize=12)\n",
    "        ax.scatter(X[:,0].numpy(), X[:,1].numpy(), y.numpy(), color='red')\n",
    "        Y_p = w[0]*X1_p + w[1]*X2_p + b\n",
    "        Y_p = Y_p.numpy()\n",
    "        ax.plot_surface(X1_p, X2_p, Y_p, color='blue', alpha=0.5)\n",
    "        plt.pause(0.3)\n",
    "\n",
    "plt.show(block=True)\n",
    "    "
   ]
  },
  {
   "cell_type": "markdown",
   "id": "c28c36a2-973a-45ad-b7e8-1035b011746e",
   "metadata": {},
   "source": [
    "## Multi layer perceptron mode"
   ]
  },
  {
   "cell_type": "code",
   "execution_count": 3,
   "id": "6ca25653-652c-4194-aea0-208534ca2fb5",
   "metadata": {},
   "outputs": [],
   "source": [
    "import torch\n",
    "import torch.nn as nn\n",
    "import numpy as np\n",
    "from torch.utils.data import TensorDataset, DataLoader\n",
    "import matplotlib.pyplot as plt"
   ]
  },
  {
   "cell_type": "code",
   "execution_count": 4,
   "id": "f827a36d-a19a-4a89-ad97-2e2cd58b7e05",
   "metadata": {},
   "outputs": [
    {
     "name": "stdout",
     "output_type": "stream",
     "text": [
      "NpzFile 'mnist_scaled.npz' with keys: X_train, y_train, X_test, y_test\n",
      "[[-1. -1. -1. ... -1. -1. -1.]\n",
      " [-1. -1. -1. ... -1. -1. -1.]\n",
      " [-1. -1. -1. ... -1. -1. -1.]\n",
      " ...\n",
      " [-1. -1. -1. ... -1. -1. -1.]\n",
      " [-1. -1. -1. ... -1. -1. -1.]\n",
      " [-1. -1. -1. ... -1. -1. -1.]]\n",
      "--------------------------------\n",
      "[5 0 4 ... 5 6 8]\n",
      "--------------------------------\n",
      "[[-1. -1. -1. ... -1. -1. -1.]\n",
      " [-1. -1. -1. ... -1. -1. -1.]\n",
      " [-1. -1. -1. ... -1. -1. -1.]\n",
      " ...\n",
      " [-1. -1. -1. ... -1. -1. -1.]\n",
      " [-1. -1. -1. ... -1. -1. -1.]\n",
      " [-1. -1. -1. ... -1. -1. -1.]]\n",
      "--------------------------------\n",
      "[7 2 1 ... 4 5 6]\n"
     ]
    }
   ],
   "source": [
    "mist = np.load('mnist_scaled.npz')\n",
    "\n",
    "X_train, y_train, X_test, y_test = [mist[f] for f in ['X_train', 'y_train', \n",
    "                                                      'X_test', 'y_test']]\n",
    "\n",
    "print(mist)\n",
    "print(X_train)\n",
    "\n",
    "print(\"--------------------------------\")\n",
    "print(y_train)\n",
    "print(\"--------------------------------\")\n",
    "\n",
    "print(X_test)\n",
    "print(\"--------------------------------\")\n",
    "print(y_test)\n",
    "\n",
    "del mist"
   ]
  },
  {
   "cell_type": "code",
   "execution_count": 5,
   "id": "f7f6584d-b9c4-4e8b-b5a7-fb21c493fdab",
   "metadata": {},
   "outputs": [
    {
     "name": "stdout",
     "output_type": "stream",
     "text": [
      "Shape X_train (60000, 1, 28, 28)\n",
      "Shape y_train (60000,)\n",
      "Shape X_test (10000, 1, 28, 28)\n",
      "Shape y_test (10000,)\n"
     ]
    }
   ],
   "source": [
    "X_train = X_train.reshape(-1,1,28,28)\n",
    "X_test = X_test.reshape(-1,1,28,28)\n",
    "\n",
    "print(f\"Shape X_train {X_train.shape}\")\n",
    "print(f\"Shape y_train {y_train.shape}\")\n",
    "print(f\"Shape X_test {X_test.shape}\")\n",
    "print(f\"Shape y_test {y_test.shape}\")"
   ]
  },
  {
   "cell_type": "code",
   "execution_count": 27,
   "id": "4b13f292-6b36-4e0a-b027-54ae9ff3d12e",
   "metadata": {},
   "outputs": [],
   "source": [
    "minibatch_size = 300\n",
    "\n",
    "# Datasets (bundles of values and labels under the same index)\n",
    "train_dataset = TensorDataset(torch.tensor(X_train[:55000], dtype=torch.float32),\n",
    "                              torch.tensor(y_train[:55000], dtype=torch.int64))\n",
    "val_dataset = TensorDataset(torch.tensor(X_train[55000:], dtype=torch.float32),\n",
    "                            torch.tensor(y_train[55000:], dtype=torch.int64))\n",
    "test_dataset = TensorDataset(torch.tensor(X_test, dtype=torch.float32),\n",
    "                             torch.tensor(y_test, dtype=torch.int64))\n",
    "\n",
    "# Dataloader (iterator over the datasets)\n",
    "train_loader = DataLoader(dataset=train_dataset, batch_size=minibatch_size, shuffle=True)\n",
    "val_loader = DataLoader(dataset=val_dataset, batch_size=minibatch_size, shuffle=False)\n",
    "test_loader = DataLoader(dataset=test_dataset, batch_size=minibatch_size, shuffle=False)"
   ]
  },
  {
   "cell_type": "markdown",
   "id": "540ecae0-b8d7-4c8d-990f-45dd0a7c6f21",
   "metadata": {},
   "source": [
    "## **Quick Data check**"
   ]
  },
  {
   "cell_type": "code",
   "execution_count": 28,
   "id": "352b2a2e-18f3-414e-b898-29f898e81f2c",
   "metadata": {},
   "outputs": [],
   "source": [
    "ex = iter(test_loader)\n",
    "ex_val, ex_label = next(ex)"
   ]
  },
  {
   "cell_type": "code",
   "execution_count": 29,
   "id": "e7adadcd-e07e-4b38-84a2-05dccaf1c972",
   "metadata": {},
   "outputs": [
    {
     "data": {
      "image/png": "[encoded data removed]",
      "text/plain": [
       "<Figure size 640x480 with 12 Axes>"
      ]
     },
     "metadata": {},
     "output_type": "display_data"
    }
   ],
   "source": [
    "%matplotlib inline\n",
    "\n",
    "for i in range(12):\n",
    "    plt.subplot(4,3,i+1)\n",
    "    plt.imshow(ex_val[i][0], cmap=\"grey\")\n",
    "    plt.title(f\"True labels: {ex_label[i]}\")\n",
    "    plt.xticks([]); plt.yticks([])\n",
    "\n",
    "plt.show()"
   ]
  },
  {
   "cell_type": "markdown",
   "id": "c0e99a36-a729-415f-9cdf-0e3493fb347c",
   "metadata": {},
   "source": [
    "## **Implement** MLP in Pytorch\n",
    "\n",
    "Our fully-connected feed-forward Neural Network has one **input layer**, one **hidden layer** and one **output layer**.\n",
    "\n",
    "![MNIST Image](mnist.png)"
   ]
  },
  {
   "cell_type": "code",
   "execution_count": 45,
   "id": "a1ce9802-3361-4f44-aac4-b6ed57019f16",
   "metadata": {},
   "outputs": [],
   "source": [
    "class  NeuralNet_pytorch(nn.Module):\n",
    "    \"\"\"\n",
    "    Core definitions of MLP implemented in PyTorch\n",
    "\n",
    "    Parameters\n",
    "    ==========\n",
    "    n_input : int\n",
    "        Number of input units\n",
    "    n_hidden : int (default: 30)\n",
    "        Number of hidden units\n",
    "    n_output : int (default: 10)\n",
    "        Number of output units\n",
    "\n",
    "    Methods\n",
    "    =======\n",
    "    forward:\n",
    "        Computes forward propagation\n",
    "    \"\"\"\n",
    "\n",
    "    def __init__(self, n_input, n_hidden=30, n_output=10):\n",
    "        super(NeuralNet_pytorch, self).__init__()\n",
    "        self.n_input = n_input\n",
    "        self.n_hidden = n_hidden\n",
    "        self.n_output = n_output\n",
    "\n",
    "        self.model_layers = nn.Sequential(\n",
    "            nn.Flatten(),\n",
    "            nn.Linear(self.n_input, self.n_hidden),\n",
    "            nn.Sigmoid(),\n",
    "            nn.Linear(self.n_hidden, self.n_output),\n",
    "        )\n",
    "\n",
    "    def forward(self, x):\n",
    "        out = self.model_layers(x)\n",
    "        return out\n",
    "        "
   ]
  },
  {
   "cell_type": "markdown",
   "id": "89e05871-5ba1-434b-8748-b383a1a42321",
   "metadata": {},
   "source": [
    "**Define test function**"
   ]
  },
  {
   "cell_type": "code",
   "execution_count": 46,
   "id": "864af0ec-eb8b-4031-9130-72692bd79394",
   "metadata": {},
   "outputs": [],
   "source": [
    "def test(dataloader, model):\n",
    "\n",
    "    #get dataloder size\n",
    "    dataset_size = len(dataloader.dataset)\n",
    "\n",
    "    #only eval the model\n",
    "    model.eval()\n",
    "\n",
    "    with torch.no_grad():\n",
    "\n",
    "        correct = 0\n",
    "        #loop over dataset\n",
    "        for image, label in dataloader:\n",
    "\n",
    "            image, label = image.to(device), label.to(device)\n",
    "\n",
    "            #forward propagation\n",
    "            output = model(image)\n",
    "\n",
    "            # derive prediction\n",
    "            y_pred = output.argmax(1)\n",
    "\n",
    "            #count correct classification over all batch\n",
    "            correct += (y_pred == label).type(torch.float32).sum().item()\n",
    "\n",
    "        #cal accuracy\n",
    "        acc = correct/dataset_size\n",
    "\n",
    "    return acc\n",
    "            \n",
    "\n",
    "    \n",
    "    "
   ]
  },
  {
   "cell_type": "markdown",
   "id": "a6437901-acd1-4a48-8623-17bab88d38eb",
   "metadata": {},
   "source": [
    "## **Apply** NeuralNet_pytorch for **image recognition**"
   ]
  },
  {
   "cell_type": "markdown",
   "id": "03ef0908-7af5-4143-aec0-a4444a003011",
   "metadata": {},
   "source": [
    "Define parameter"
   ]
  },
  {
   "cell_type": "code",
   "execution_count": 47,
   "id": "1a7b613e-0aed-4b80-8398-7ddc5924c17b",
   "metadata": {},
   "outputs": [
    {
     "name": "stdout",
     "output_type": "stream",
     "text": [
      "device: cpu\n"
     ]
    }
   ],
   "source": [
    "device = torch.device('cuda' if torch.cuda.is_available() else 'cpu')\n",
    "print(f\"device: {device}\")\n",
    "\n",
    "#input parameters\n",
    "# Hyper-parameters \n",
    "n_input = 28*28  # = 784\n",
    "n_hidden = 100\n",
    "n_output = 10\n",
    "epochs = 100\n",
    "learning_rate = 0.0005\n",
    "shuffle = True"
   ]
  },
  {
   "cell_type": "code",
   "execution_count": 48,
   "id": "79cff83c-3c4c-42d9-8d1a-fa7e439d09ca",
   "metadata": {},
   "outputs": [
    {
     "name": "stdout",
     "output_type": "stream",
     "text": [
      "NeuralNet_pytorch(\n",
      "  (model_layers): Sequential(\n",
      "    (0): Flatten(start_dim=1, end_dim=-1)\n",
      "    (1): Linear(in_features=784, out_features=100, bias=True)\n",
      "    (2): Sigmoid()\n",
      "    (3): Linear(in_features=100, out_features=10, bias=True)\n",
      "  )\n",
      ")\n"
     ]
    }
   ],
   "source": [
    "model = NeuralNet_pytorch(n_input,n_hidden,n_output).to(device)\n",
    "print(model)"
   ]
  },
  {
   "cell_type": "code",
   "execution_count": 51,
   "id": "33030df3-840a-49d5-b043-62f7ea39ef75",
   "metadata": {},
   "outputs": [
    {
     "name": "stdout",
     "output_type": "stream",
     "text": [
      "Epoch [5/100], Loss: 0.0159\n",
      "      Training accuracy: 100.0%\n",
      "      Validation accuracy: 97.9%\n",
      "Epoch [10/100], Loss: 0.0050\n",
      "      Training accuracy: 100.0%\n",
      "      Validation accuracy: 97.9%\n",
      "Epoch [15/100], Loss: 0.0028\n",
      "      Training accuracy: 100.0%\n",
      "      Validation accuracy: 97.8%\n",
      "Epoch [20/100], Loss: 0.0039\n",
      "      Training accuracy: 100.0%\n",
      "      Validation accuracy: 97.9%\n",
      "Epoch [25/100], Loss: 0.0043\n",
      "      Training accuracy: 100.0%\n",
      "      Validation accuracy: 97.8%\n",
      "Epoch [30/100], Loss: 0.0052\n",
      "      Training accuracy: 100.0%\n",
      "      Validation accuracy: 98.0%\n",
      "Epoch [35/100], Loss: 0.0030\n",
      "      Training accuracy: 100.0%\n",
      "      Validation accuracy: 97.9%\n",
      "Epoch [40/100], Loss: 0.0015\n",
      "      Training accuracy: 100.0%\n",
      "      Validation accuracy: 97.9%\n",
      "Epoch [45/100], Loss: 0.0007\n",
      "      Training accuracy: 100.0%\n",
      "      Validation accuracy: 97.9%\n",
      "Epoch [50/100], Loss: 0.0007\n",
      "      Training accuracy: 100.0%\n",
      "      Validation accuracy: 97.9%\n",
      "Epoch [55/100], Loss: 0.0009\n",
      "      Training accuracy: 100.0%\n",
      "      Validation accuracy: 97.9%\n",
      "Epoch [60/100], Loss: 0.0009\n",
      "      Training accuracy: 100.0%\n",
      "      Validation accuracy: 97.9%\n",
      "Epoch [65/100], Loss: 0.0007\n",
      "      Training accuracy: 100.0%\n",
      "      Validation accuracy: 97.9%\n",
      "Epoch [70/100], Loss: 0.0005\n",
      "      Training accuracy: 100.0%\n",
      "      Validation accuracy: 97.7%\n",
      "Epoch [75/100], Loss: 0.0006\n",
      "      Training accuracy: 100.0%\n",
      "      Validation accuracy: 97.9%\n",
      "Epoch [80/100], Loss: 0.0006\n",
      "      Training accuracy: 99.9%\n",
      "      Validation accuracy: 97.8%\n",
      "Epoch [85/100], Loss: 0.0005\n",
      "      Training accuracy: 100.0%\n",
      "      Validation accuracy: 97.9%\n",
      "Epoch [90/100], Loss: 0.0006\n",
      "      Training accuracy: 100.0%\n",
      "      Validation accuracy: 97.9%\n",
      "Epoch [95/100], Loss: 0.0004\n",
      "      Training accuracy: 100.0%\n",
      "      Validation accuracy: 97.9%\n",
      "Epoch [100/100], Loss: 0.0003\n",
      "      Training accuracy: 100.0%\n",
      "      Validation accuracy: 97.9%\n"
     ]
    }
   ],
   "source": [
    "#define cost function and optimizer\n",
    "\n",
    "loss = nn.CrossEntropyLoss()\n",
    "optimizer = torch.optim.Adam(model.parameters(), lr=learning_rate)\n",
    "\n",
    "for epoch in range(epochs):\n",
    "    n_correct =0; n_samples=0\n",
    "    for idx, (images,labels) in enumerate(train_loader):\n",
    "        images, labels = images.to(device), labels.to(device)\n",
    "\n",
    "        #forward propagation\n",
    "        outputs = model(images)\n",
    "        #loss cal\n",
    "        l = loss(outputs, labels)\n",
    "\n",
    "        #backward \n",
    "        optimizer.zero_grad()\n",
    "        l.backward()\n",
    "        optimizer.step()\n",
    "\n",
    "        # Get prediced labels (.max returns (value ,index))\n",
    "        _, y_pred = torch.max(outputs.data, 1)\n",
    "\n",
    "        # Count correct classifications\n",
    "        n_correct += (y_pred == labels).sum().item()\n",
    "        n_samples += labels.size(0)\n",
    "\n",
    "    if (epoch +1) % 5 == 0:\n",
    "\n",
    "        acc_train = n_correct/n_samples\n",
    "        acc_val = test(val_loader, model)\n",
    "\n",
    "        print (f\"Epoch [{epoch+1}/{epochs}], Loss: {l.item():.4f}\")\n",
    "        print(f\"      Training accuracy: {acc_train*100:.1f}%\")\n",
    "        print(f\"      Validation accuracy: {acc_val*100:.1f}%\")\n",
    "        "
   ]
  },
  {
   "cell_type": "code",
   "execution_count": 53,
   "id": "38bc0986-0aa8-4537-9e89-d981d9d56c94",
   "metadata": {},
   "outputs": [
    {
     "name": "stdout",
     "output_type": "stream",
     "text": [
      "Test accuracy: 97.6%\n"
     ]
    }
   ],
   "source": [
    "#call 'test' fun for test dataloader\n",
    "\n",
    "acc_test = test(test_loader, model)\n",
    "\n",
    "print(f\"Test accuracy: {acc_test*100:.1f}%\")"
   ]
  },
  {
   "cell_type": "code",
   "execution_count": null,
   "id": "500bfe0a-3af5-4a52-ab82-4295202b3df8",
   "metadata": {},
   "outputs": [],
   "source": []
  }
 ],
 "metadata": {
  "kernelspec": {
   "display_name": "Python 3 (ipykernel)",
   "language": "python",
   "name": "python3"
  },
  "language_info": {
   "codemirror_mode": {
    "name": "ipython",
    "version": 3
   },
   "file_extension": ".py",
   "mimetype": "text/x-python",
   "name": "python",
   "nbconvert_exporter": "python",
   "pygments_lexer": "ipython3",
   "version": "3.9.21"
  }
 },
 "nbformat": 4,
 "nbformat_minor": 5
}
