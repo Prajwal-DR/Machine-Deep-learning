{
 "cells": [
  {
   "cell_type": "markdown",
   "id": "4f155c75",
   "metadata": {},
   "source": [
    "## MLP statistical language model which uses 3 sequence character to predict next"
   ]
  },
  {
   "cell_type": "markdown",
   "id": "4c29cc80",
   "metadata": {},
   "source": [
    "### 1.1 Load libraries and create dataset"
   ]
  },
  {
   "cell_type": "code",
   "execution_count": 20,
   "id": "9d35f257",
   "metadata": {},
   "outputs": [],
   "source": [
    "#import library\n",
    "\n",
    "import torch\n",
    "import torch.nn.functional as F\n",
    "import matplotlib.pyplot as plt\n",
    "import random\n",
    "import numpy as np\n",
    "\n",
    "%matplotlib inline"
   ]
  },
  {
   "cell_type": "code",
   "execution_count": 21,
   "id": "ff79b4a4",
   "metadata": {},
   "outputs": [
    {
     "name": "stdout",
     "output_type": "stream",
     "text": [
      "32033\n"
     ]
    }
   ],
   "source": [
    "#load data\n",
    "\n",
    "words = open('names.txt').read().splitlines()\n",
    "print(len(words))"
   ]
  },
  {
   "cell_type": "code",
   "execution_count": 22,
   "id": "95b5304e",
   "metadata": {},
   "outputs": [],
   "source": [
    "#encoder and decoder\n",
    "chars  = sorted(list(set(''.join(words))))\n",
    "stoi = {s:i+1 for i, s in enumerate(chars)}\n",
    "stoi['.'] = 0\n",
    "\n",
    "itos = {i:s for s, i in stoi.items()}"
   ]
  },
  {
   "cell_type": "code",
   "execution_count": 24,
   "id": "99a62d2e",
   "metadata": {},
   "outputs": [
    {
     "name": "stdout",
     "output_type": "stream",
     "text": [
      "torch.Size([182580, 3]) torch.Size([182580])\n",
      "torch.Size([22767, 3]) torch.Size([22767])\n",
      "torch.Size([22799, 3]) torch.Size([22799])\n"
     ]
    }
   ],
   "source": [
    "#prepare dataset\n",
    "batch_size = 3\n",
    "\n",
    "def build_dataset(words):\n",
    "    X, Y = [], []\n",
    "\n",
    "    for word in words:\n",
    "        context = [0] * batch_size\n",
    "        for w in word + \".\":\n",
    "            ix = stoi[w]\n",
    "\n",
    "            X.append(context)\n",
    "            Y.append(ix)\n",
    "\n",
    "            context = context[1:] + [ix]\n",
    "            \n",
    "    X = torch.tensor(X)\n",
    "    Y = torch.tensor(Y)\n",
    "    return X,Y\n",
    "\n",
    "random.seed(42)\n",
    "random.shuffle(words)\n",
    "n1 = int(0.8 * len(words))\n",
    "n2 = int(0.9 * len(words))\n",
    "X_trn, Y_trn = build_dataset(words[:n1])\n",
    "X_val, Y_val = build_dataset(words[n1:n2])\n",
    "X_test, Y_test = build_dataset(words[n2:])\n",
    "\n",
    "print(X_trn.shape, Y_trn.shape)\n",
    "print(X_val.shape, Y_val.shape)\n",
    "print(X_test.shape, Y_test.shape)"
   ]
  },
  {
   "cell_type": "markdown",
   "id": "3dbda5a1",
   "metadata": {},
   "source": [
    "### Create vector embedding C for the inputs x"
   ]
  },
  {
   "cell_type": "code",
   "execution_count": 25,
   "id": "26d423f1",
   "metadata": {},
   "outputs": [],
   "source": [
    "# Initializing network parameters\n",
    "emb_dim = 10 #embedding vector space\n",
    "vocab_size =27 #vocab_size is char 'a' to 'z', '.'\n",
    "h_units = 200\n",
    "\n",
    "g = torch.Generator().manual_seed(2147483647) # for reproducibility\n",
    "C = torch.randn((vocab_size,emb_dim), generator=g)\n",
    "W1 = torch.randn((emb_dim*batch_size, h_units), generator=g)\n",
    "B1 = torch.randn(h_units, generator=g)\n",
    "W2 = torch.randn((h_units, vocab_size), generator=g)\n",
    "B2 = torch.randn(vocab_size, generator=g)\n",
    "parameters = [C, W1, B1, W2, B2]"
   ]
  },
  {
   "cell_type": "code",
   "execution_count": 26,
   "id": "fe5cc98b",
   "metadata": {},
   "outputs": [],
   "source": [
    "sum(p.nelement() for p in parameters)\n",
    "\n",
    "for p in parameters:\n",
    "    p.requires_grad = True"
   ]
  },
  {
   "cell_type": "code",
   "execution_count": 27,
   "id": "1da59a08",
   "metadata": {},
   "outputs": [],
   "source": [
    "lossi = []\n",
    "stepi = []"
   ]
  },
  {
   "cell_type": "code",
   "execution_count": 28,
   "id": "208a44c7",
   "metadata": {},
   "outputs": [
    {
     "name": "stdout",
     "output_type": "stream",
     "text": [
      "0/10000 : loss= 25.6486\n",
      "1000/10000 : loss= 2.8373\n",
      "2000/10000 : loss= 2.2243\n",
      "3000/10000 : loss= 1.9532\n",
      "4000/10000 : loss= 1.7887\n",
      "5000/10000 : loss= 1.6760\n",
      "6000/10000 : loss= 1.6661\n",
      "7000/10000 : loss= 1.6569\n",
      "8000/10000 : loss= 1.6479\n",
      "9000/10000 : loss= 1.6392\n"
     ]
    }
   ],
   "source": [
    "mini_batch = 32\n",
    "#model training\n",
    "for i in range(10000):\n",
    "\n",
    "    ix = torch.arange(0, X_trn.shape[0], mini_batch,) #mini_batchsize\n",
    "    emb = C[X_trn[ix]]\n",
    "\n",
    "    #forward pass\n",
    "    h = torch.tanh(emb.view(-1,30)@ W1 + B1)\n",
    "    logits = h @ W2 + B2\n",
    "    loss = F.cross_entropy(logits, Y_trn[ix])\n",
    "    #print(loss.item())\n",
    "\n",
    "    #backward pass\n",
    "    for p in parameters:\n",
    "        p.grad = None\n",
    "    loss.backward()\n",
    "\n",
    "    #optimize\n",
    "    lr = 0.1 if i < 5000 else 0.01\n",
    "    for p in parameters:\n",
    "        p.data += -lr * p.grad\n",
    "\n",
    "    #track stats\n",
    "    stepi.append(i)\n",
    "\n",
    "    if i%1000 == 0:\n",
    "        print(f'{i}/10000 : loss={loss.item(): .4f}')\n",
    "    lossi.append(loss.log10().item())\n",
    "\n"
   ]
  },
  {
   "cell_type": "code",
   "execution_count": 30,
   "id": "f1f33dd2",
   "metadata": {},
   "outputs": [
    {
     "data": {
      "text/plain": [
       "[<matplotlib.lines.Line2D at 0x1fb00288730>]"
      ]
     },
     "execution_count": 30,
     "metadata": {},
     "output_type": "execute_result"
    },
    {
     "data": {
      "image/png": "[encoded data removed]",
      "text/plain": [
       "<Figure size 640x480 with 1 Axes>"
      ]
     },
     "metadata": {},
     "output_type": "display_data"
    }
   ],
   "source": [
    "#import os\n",
    "\n",
    "#os.environ['KMP_DUPLICATE_LIB_OK'] = 'True'\n",
    "\n",
    "plt.plot(lossi)\n",
    "#plt.hist(h.view(-1).tolist(), 50);"
   ]
  },
  {
   "cell_type": "markdown",
   "id": "5d7c1179",
   "metadata": {},
   "source": [
    "### Validation dataset loss & Test dataset loss"
   ]
  },
  {
   "cell_type": "code",
   "execution_count": 32,
   "id": "de8bfdf0",
   "metadata": {},
   "outputs": [
    {
     "name": "stdout",
     "output_type": "stream",
     "text": [
      "train 3.8761937618255615\n",
      "valid 3.9231343269348145\n",
      "test 3.9503419399261475\n"
     ]
    }
   ],
   "source": [
    "@torch.no_grad #decorative to inform stop calculating gradient\n",
    "def print_split(split):\n",
    "    X,Y = {'train' : (X_trn, Y_trn),\n",
    "           'valid': (X_val, Y_val),\n",
    "           'test' : (X_test, Y_test),\n",
    "           }[split]\n",
    "\n",
    "    emb = C[X]\n",
    "    #forward pass\n",
    "    h = torch.tanh(emb.view(emb.shape[0],-1)@ W1 + B1)\n",
    "    logits = h @ W2 + B2\n",
    "    loss = F.cross_entropy(logits, Y)\n",
    "    print(split, loss.item())\n",
    "\n",
    "print_split('train')\n",
    "print_split('valid')\n",
    "print_split('test')"
   ]
  },
  {
   "cell_type": "code",
   "execution_count": 31,
   "id": "86db42c7",
   "metadata": {},
   "outputs": [
    {
     "data": {
      "image/png": "[encoded data removed]",
      "text/plain": [
       "<Figure size 800x800 with 1 Axes>"
      ]
     },
     "metadata": {},
     "output_type": "display_data"
    }
   ],
   "source": [
    "# visualize dimensions 0 and 1 of the embedding matrix C for all characters\n",
    "plt.figure(figsize=(8,8))\n",
    "plt.scatter(C[:,0].data, C[:,1].data, s=200)\n",
    "for i in range(C.shape[0]):\n",
    "    plt.text(C[i,0].item(), C[i,1].item(), itos[i], ha=\"center\", va=\"center\", color='white')\n",
    "plt.grid('minor')"
   ]
  },
  {
   "cell_type": "markdown",
   "id": "dc39cc79",
   "metadata": {},
   "source": [
    "### Sampling from trained dataset"
   ]
  },
  {
   "cell_type": "code",
   "execution_count": 15,
   "id": "3c1146ae",
   "metadata": {},
   "outputs": [
    {
     "data": {
      "text/plain": [
       "torch.Size([1, 3, 10])"
      ]
     },
     "execution_count": 15,
     "metadata": {},
     "output_type": "execute_result"
    }
   ],
   "source": [
    "context = [0] * batch_size\n",
    "C[torch.tensor([context])].shape"
   ]
  },
  {
   "cell_type": "code",
   "execution_count": 36,
   "id": "545e748e",
   "metadata": {},
   "outputs": [
    {
     "name": "stdout",
     "output_type": "stream",
     "text": [
      "juo.\n",
      "dek.\n",
      "anakah.\n",
      "paytyaan.\n",
      "bri.\n",
      "jima.\n",
      "toroetyngeer.\n",
      "saania.\n",
      "yamirinea.\n",
      "khyani.\n",
      "roya.\n",
      "las.\n",
      "jaqsix.\n",
      "arthien.\n",
      "murto.\n",
      "fodta.\n",
      "jansy.\n",
      "sumah.\n",
      "jayliani.\n",
      "aysen.\n"
     ]
    }
   ],
   "source": [
    "g = torch.Generator().manual_seed(2147483647)\n",
    "\n",
    "for _ in range(20):\n",
    "    out = []\n",
    "    context = [0] * batch_size\n",
    "\n",
    "    while True:\n",
    "        emb = C[torch.tensor([context])]\n",
    "        h = torch.tanh(emb.view(1, -1) @ W1 + B1)\n",
    "        logits = h @ W2 + B2\n",
    "        prob = F.softmax(logits, dim=1)\n",
    "\n",
    "        ix = torch.multinomial(prob, num_samples=1, replacement=True, generator=g).item()\n",
    "        context = context[1:] + [ix]\n",
    "        out.append(ix)\n",
    "\n",
    "        if ix==0:\n",
    "            break\n",
    "\n",
    "    print( ''.join(itos[i] for i in out))"
   ]
  }
 ],
 "metadata": {
  "kernelspec": {
   "display_name": "my01env",
   "language": "python",
   "name": "python3"
  },
  "language_info": {
   "codemirror_mode": {
    "name": "ipython",
    "version": 3
   },
   "file_extension": ".py",
   "mimetype": "text/x-python",
   "name": "python",
   "nbconvert_exporter": "python",
   "pygments_lexer": "ipython3",
   "version": "3.9.21"
  }
 },
 "nbformat": 4,
 "nbformat_minor": 5
}
