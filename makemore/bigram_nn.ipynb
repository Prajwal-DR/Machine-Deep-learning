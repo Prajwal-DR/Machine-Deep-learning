{
 "cells": [
  {
   "cell_type": "markdown",
   "id": "0c62e4dd",
   "metadata": {},
   "source": [
    "# Bigram Model of Neural Network"
   ]
  },
  {
   "cell_type": "markdown",
   "id": "21994535",
   "metadata": {},
   "source": [
    "### 1.1 Load and create datasets"
   ]
  },
  {
   "cell_type": "code",
   "execution_count": 6,
   "id": "19ca7d0f",
   "metadata": {},
   "outputs": [
    {
     "name": "stdout",
     "output_type": "stream",
     "text": [
      "32033\n"
     ]
    }
   ],
   "source": [
    "# Create list of words from names.txt\n",
    "words = open('names.txt').read().splitlines()\n",
    "print(len(words))"
   ]
  },
  {
   "cell_type": "code",
   "execution_count": 7,
   "id": "9e9715e2",
   "metadata": {},
   "outputs": [],
   "source": [
    "#Designing encoder and decoder\n",
    "chars = sorted(list(set(''.join(words))))\n",
    "\n",
    "#string to integer\n",
    "stoi = {s:i+1 for i, s in enumerate(chars)}\n",
    "stoi['.'] = 0\n",
    "\n",
    "#integer to string\n",
    "itos = {i:s for s, i in stoi.items()}"
   ]
  },
  {
   "cell_type": "code",
   "execution_count": 8,
   "id": "37ee194c",
   "metadata": {},
   "outputs": [
    {
     "name": "stdout",
     "output_type": "stream",
     "text": [
      "number of samples= 228146\n"
     ]
    }
   ],
   "source": [
    "#creating dataset\n",
    "import torch\n",
    "import torch.nn.functional as F\n",
    "\n",
    "xs, ys = [], []\n",
    "\n",
    "for w in words:\n",
    "    chr_list = ['.'] + list(w) + ['.']\n",
    "\n",
    "    for (chr, chr1) in zip(chr_list, chr_list[1:]):\n",
    "        idx1 = stoi[chr]\n",
    "        idx2 = stoi[chr1]\n",
    "        xs.append(idx1)\n",
    "        ys.append(idx2)\n",
    "\n",
    "\n",
    "xs = torch.tensor(xs)\n",
    "ys = torch.tensor(ys)\n",
    "num = xs.nelement()\n",
    "print(f\"number of samples= {xs.nelement()}\")\n"
   ]
  },
  {
   "cell_type": "code",
   "execution_count": 9,
   "id": "6c8ed52d",
   "metadata": {},
   "outputs": [
    {
     "data": {
      "text/plain": [
       "torch.float32"
      ]
     },
     "execution_count": 9,
     "metadata": {},
     "output_type": "execute_result"
    }
   ],
   "source": [
    "#one hot encoding into 27 vector dimension space of xs\n",
    "\n",
    "x_enc = F.one_hot(xs, num_classes=27).float()\n",
    "x_enc.dtype"
   ]
  },
  {
   "cell_type": "code",
   "execution_count": 10,
   "id": "73295435",
   "metadata": {},
   "outputs": [],
   "source": [
    "#network parameter\n",
    "g = torch.Generator().manual_seed(2147483647)\n",
    "W = torch.randn((27,27), generator=g, requires_grad=True)"
   ]
  },
  {
   "cell_type": "markdown",
   "id": "76e39583",
   "metadata": {},
   "source": [
    "### 1.2 Training the prepared dataset via gradient decent method of nn"
   ]
  },
  {
   "cell_type": "code",
   "execution_count": 37,
   "id": "4cda0214",
   "metadata": {},
   "outputs": [
    {
     "name": "stdout",
     "output_type": "stream",
     "text": [
      "loss= 2.4851958751678467\n"
     ]
    }
   ],
   "source": [
    "#Training loop over 10 epochs\n",
    "epochs = 10\n",
    "l2 = 0.01\n",
    "learning_rate = 10\n",
    "\n",
    "for epoch in range(epochs):\n",
    "    #forward pass\n",
    "    x_enc = F.one_hot(xs, num_classes=27).float()\n",
    "    logits = x_enc @ W # predict log-counts\n",
    "    count = logits.exp() # counts, equivalent to N\n",
    "    prob = count/ count.sum(1, keepdim=True) # probabilities for next character\n",
    "    loss = -prob[torch.arange(num), ys].log().mean() + l2*(W**2).mean()\n",
    "\n",
    "    #backward pass\n",
    "    W.grad = None\n",
    "    loss.backward()\n",
    "\n",
    "    #optimize weights\n",
    "    W.data += -learning_rate * W.grad\n",
    "\n",
    "print(f'loss= {loss.data}')"
   ]
  },
  {
   "cell_type": "markdown",
   "id": "93b7f0c4",
   "metadata": {},
   "source": [
    "### 1.3 Sampling data from Trained dataset\n"
   ]
  },
  {
   "cell_type": "code",
   "execution_count": 39,
   "id": "b9d14977",
   "metadata": {},
   "outputs": [
    {
     "name": "stdout",
     "output_type": "stream",
     "text": [
      "junide.\n",
      "janasah.\n",
      "p.\n",
      "cfay.\n",
      "a.\n"
     ]
    }
   ],
   "source": [
    "#sampling of neural network\n",
    "g = torch.Generator().manual_seed(2147483647)\n",
    "\n",
    "for i in range(5):\n",
    "    out=[]\n",
    "    idx= 0\n",
    "\n",
    "    while True:\n",
    "        x_sample = F.one_hot(torch.tensor([idx]), num_classes=27).float()\n",
    "        logits = x_sample @ W\n",
    "        count = logits.exp()\n",
    "        prob = count/ count.sum(1, keepdim=True) \n",
    "\n",
    "        idx = torch.multinomial(prob, num_samples=1, replacement=True, generator=g).item()\n",
    "        out.append(itos[idx])\n",
    "\n",
    "        if idx == 0:\n",
    "            break\n",
    "    \n",
    "    print(''.join(out))\n"
   ]
  }
 ],
 "metadata": {
  "kernelspec": {
   "display_name": "my01env",
   "language": "python",
   "name": "python3"
  },
  "language_info": {
   "codemirror_mode": {
    "name": "ipython",
    "version": 3
   },
   "file_extension": ".py",
   "mimetype": "text/x-python",
   "name": "python",
   "nbconvert_exporter": "python",
   "pygments_lexer": "ipython3",
   "version": "3.9.21"
  }
 },
 "nbformat": 4,
 "nbformat_minor": 5
}
